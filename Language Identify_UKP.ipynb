{
 "cells": [
  {
   "cell_type": "markdown",
   "id": "29297ad0-10be-4a45-8239-8b3792f40593",
   "metadata": {},
   "source": [
    "This assignment was aimed to implement a method to identify the language. I started with Exploratory Data Analysis and split data as train and test set. After I used Label Encoding to represent categorical columns in a numerical column. Following I used bag of words model to convert the text into numerical feature vectors. Finally I started training Navie Bayes, Logistic Regression, Support vector Machine, XGBClassifier, GradientBoostingClassifier and Random Forest models for classification problem."
   ]
  },
  {
   "cell_type": "markdown",
   "id": "0b288fb3",
   "metadata": {
    "tags": []
   },
   "source": [
    "## Exploratory Data Analysis"
   ]
  },
  {
   "cell_type": "markdown",
   "id": "85ef64ca",
   "metadata": {
    "tags": []
   },
   "source": [
    "### Importing Modules"
   ]
  },
  {
   "cell_type": "code",
   "execution_count": 64,
   "id": "46a5bcaf",
   "metadata": {},
   "outputs": [],
   "source": [
    "import numpy as np\n",
    "import pandas as pd\n",
    "import seaborn as sns\n",
    "import matplotlib.pyplot as plt\n",
    "import warnings\n",
    "warnings.filterwarnings(\"ignore\", category=DeprecationWarning)\n",
    "warnings.filterwarnings(\"ignore\", category=FutureWarning)"
   ]
  },
  {
   "cell_type": "markdown",
   "id": "d521b45e-99c8-45aa-b15d-20943224f6fc",
   "metadata": {
    "tags": []
   },
   "source": [
    "I found this data set in Kaggle. "
   ]
  },
  {
   "cell_type": "code",
   "execution_count": 3,
   "id": "0a9bf138",
   "metadata": {},
   "outputs": [],
   "source": [
    "df = pd.read_csv(\"Language Identify.csv\")"
   ]
  },
  {
   "cell_type": "code",
   "execution_count": 4,
   "id": "4c7d1ed4",
   "metadata": {},
   "outputs": [
    {
     "data": {
      "text/html": [
       "<div>\n",
       "<style scoped>\n",
       "    .dataframe tbody tr th:only-of-type {\n",
       "        vertical-align: middle;\n",
       "    }\n",
       "\n",
       "    .dataframe tbody tr th {\n",
       "        vertical-align: top;\n",
       "    }\n",
       "\n",
       "    .dataframe thead th {\n",
       "        text-align: right;\n",
       "    }\n",
       "</style>\n",
       "<table border=\"1\" class=\"dataframe\">\n",
       "  <thead>\n",
       "    <tr style=\"text-align: right;\">\n",
       "      <th></th>\n",
       "      <th>Text</th>\n",
       "      <th>Language</th>\n",
       "    </tr>\n",
       "  </thead>\n",
       "  <tbody>\n",
       "    <tr>\n",
       "      <th>0</th>\n",
       "      <td>Nature, in the broadest sense, is the natural...</td>\n",
       "      <td>English</td>\n",
       "    </tr>\n",
       "    <tr>\n",
       "      <th>1</th>\n",
       "      <td>\"Nature\" can refer to the phenomena of the phy...</td>\n",
       "      <td>English</td>\n",
       "    </tr>\n",
       "    <tr>\n",
       "      <th>2</th>\n",
       "      <td>The study of nature is a large, if not the onl...</td>\n",
       "      <td>English</td>\n",
       "    </tr>\n",
       "    <tr>\n",
       "      <th>3</th>\n",
       "      <td>Although humans are part of nature, human acti...</td>\n",
       "      <td>English</td>\n",
       "    </tr>\n",
       "    <tr>\n",
       "      <th>4</th>\n",
       "      <td>[1] The word nature is borrowed from the Old F...</td>\n",
       "      <td>English</td>\n",
       "    </tr>\n",
       "  </tbody>\n",
       "</table>\n",
       "</div>"
      ],
      "text/plain": [
       "                                                Text Language\n",
       "0   Nature, in the broadest sense, is the natural...  English\n",
       "1  \"Nature\" can refer to the phenomena of the phy...  English\n",
       "2  The study of nature is a large, if not the onl...  English\n",
       "3  Although humans are part of nature, human acti...  English\n",
       "4  [1] The word nature is borrowed from the Old F...  English"
      ]
     },
     "execution_count": 4,
     "metadata": {},
     "output_type": "execute_result"
    }
   ],
   "source": [
    "df.head()"
   ]
  },
  {
   "cell_type": "code",
   "execution_count": 6,
   "id": "5b933922-9437-4cdf-a60f-c79a38a5682b",
   "metadata": {},
   "outputs": [
    {
     "data": {
      "text/html": [
       "<div>\n",
       "<style scoped>\n",
       "    .dataframe tbody tr th:only-of-type {\n",
       "        vertical-align: middle;\n",
       "    }\n",
       "\n",
       "    .dataframe tbody tr th {\n",
       "        vertical-align: top;\n",
       "    }\n",
       "\n",
       "    .dataframe thead th {\n",
       "        text-align: right;\n",
       "    }\n",
       "</style>\n",
       "<table border=\"1\" class=\"dataframe\">\n",
       "  <thead>\n",
       "    <tr style=\"text-align: right;\">\n",
       "      <th></th>\n",
       "      <th>Text</th>\n",
       "      <th>Language</th>\n",
       "    </tr>\n",
       "  </thead>\n",
       "  <tbody>\n",
       "    <tr>\n",
       "      <th>10332</th>\n",
       "      <td>ನಿಮ್ಮ ತಪ್ಪು ಏನು ಬಂದಿದೆಯೆಂದರೆ ಆ ದಿನದಿಂದ ನಿಮಗೆ ಒ...</td>\n",
       "      <td>Kannada</td>\n",
       "    </tr>\n",
       "    <tr>\n",
       "      <th>10333</th>\n",
       "      <td>ನಾರ್ಸಿಸಾ ತಾನು ಮೊದಲಿಗೆ ಹೆಣಗಾಡುತ್ತಿದ್ದ ಮಾರ್ಗಗಳನ್...</td>\n",
       "      <td>Kannada</td>\n",
       "    </tr>\n",
       "    <tr>\n",
       "      <th>10334</th>\n",
       "      <td>ಹೇಗೆ ' ನಾರ್ಸಿಸಿಸಮ್ ಈಗ ಮರಿಯನ್ ಅವರಿಗೆ ಸಂಭವಿಸಿದ ಎ...</td>\n",
       "      <td>Kannada</td>\n",
       "    </tr>\n",
       "    <tr>\n",
       "      <th>10335</th>\n",
       "      <td>ಅವಳು ಈಗ ಹೆಚ್ಚು ಚಿನ್ನದ ಬ್ರೆಡ್ ಬಯಸುವುದಿಲ್ಲ ಎಂದು ...</td>\n",
       "      <td>Kannada</td>\n",
       "    </tr>\n",
       "    <tr>\n",
       "      <th>10336</th>\n",
       "      <td>ಟೆರ್ರಿ ನೀವು ನಿಜವಾಗಿಯೂ ಆ ದೇವದೂತನಂತೆ ಸ್ವಲ್ಪ ಕಾಣು...</td>\n",
       "      <td>Kannada</td>\n",
       "    </tr>\n",
       "  </tbody>\n",
       "</table>\n",
       "</div>"
      ],
      "text/plain": [
       "                                                    Text Language\n",
       "10332  ನಿಮ್ಮ ತಪ್ಪು ಏನು ಬಂದಿದೆಯೆಂದರೆ ಆ ದಿನದಿಂದ ನಿಮಗೆ ಒ...  Kannada\n",
       "10333  ನಾರ್ಸಿಸಾ ತಾನು ಮೊದಲಿಗೆ ಹೆಣಗಾಡುತ್ತಿದ್ದ ಮಾರ್ಗಗಳನ್...  Kannada\n",
       "10334  ಹೇಗೆ ' ನಾರ್ಸಿಸಿಸಮ್ ಈಗ ಮರಿಯನ್ ಅವರಿಗೆ ಸಂಭವಿಸಿದ ಎ...  Kannada\n",
       "10335  ಅವಳು ಈಗ ಹೆಚ್ಚು ಚಿನ್ನದ ಬ್ರೆಡ್ ಬಯಸುವುದಿಲ್ಲ ಎಂದು ...  Kannada\n",
       "10336  ಟೆರ್ರಿ ನೀವು ನಿಜವಾಗಿಯೂ ಆ ದೇವದೂತನಂತೆ ಸ್ವಲ್ಪ ಕಾಣು...  Kannada"
      ]
     },
     "execution_count": 6,
     "metadata": {},
     "output_type": "execute_result"
    }
   ],
   "source": [
    "df.tail()"
   ]
  },
  {
   "cell_type": "code",
   "execution_count": 8,
   "id": "8ab1fe26",
   "metadata": {},
   "outputs": [
    {
     "data": {
      "text/html": [
       "<div>\n",
       "<style scoped>\n",
       "    .dataframe tbody tr th:only-of-type {\n",
       "        vertical-align: middle;\n",
       "    }\n",
       "\n",
       "    .dataframe tbody tr th {\n",
       "        vertical-align: top;\n",
       "    }\n",
       "\n",
       "    .dataframe thead th {\n",
       "        text-align: right;\n",
       "    }\n",
       "</style>\n",
       "<table border=\"1\" class=\"dataframe\">\n",
       "  <thead>\n",
       "    <tr style=\"text-align: right;\">\n",
       "      <th></th>\n",
       "      <th>Text</th>\n",
       "      <th>Language</th>\n",
       "    </tr>\n",
       "  </thead>\n",
       "  <tbody>\n",
       "    <tr>\n",
       "      <th>6950</th>\n",
       "      <td>dejligt at møde dig.</td>\n",
       "      <td>Danish</td>\n",
       "    </tr>\n",
       "    <tr>\n",
       "      <th>2548</th>\n",
       "      <td>[34] Em 10 de janeiro de 2001, Larry Sanger pr...</td>\n",
       "      <td>Portugeese</td>\n",
       "    </tr>\n",
       "    <tr>\n",
       "      <th>2386</th>\n",
       "      <td>நீங்கள் தவறாக நினைக்கிறீர்கள் என்று நினைக்கிறேன்.</td>\n",
       "      <td>Tamil</td>\n",
       "    </tr>\n",
       "    <tr>\n",
       "      <th>795</th>\n",
       "      <td>[19]:708–710; 755 Neural networks research had...</td>\n",
       "      <td>English</td>\n",
       "    </tr>\n",
       "    <tr>\n",
       "      <th>938</th>\n",
       "      <td>An artificial neuron that receives a signal ca...</td>\n",
       "      <td>English</td>\n",
       "    </tr>\n",
       "    <tr>\n",
       "      <th>6897</th>\n",
       "      <td>Jeg kan ikke tro det, du skal være en sjov på ...</td>\n",
       "      <td>Danish</td>\n",
       "    </tr>\n",
       "    <tr>\n",
       "      <th>4134</th>\n",
       "      <td>je ne suis pas libre de le dire.</td>\n",
       "      <td>French</td>\n",
       "    </tr>\n",
       "    <tr>\n",
       "      <th>4197</th>\n",
       "      <td>je ne peux pas vous remercier assez.</td>\n",
       "      <td>French</td>\n",
       "    </tr>\n",
       "    <tr>\n",
       "      <th>8180</th>\n",
       "      <td>planlar yapmak.</td>\n",
       "      <td>Turkish</td>\n",
       "    </tr>\n",
       "    <tr>\n",
       "      <th>9634</th>\n",
       "      <td>und dann mach weiter und erkläre, wo du hingek...</td>\n",
       "      <td>German</td>\n",
       "    </tr>\n",
       "  </tbody>\n",
       "</table>\n",
       "</div>"
      ],
      "text/plain": [
       "                                                   Text    Language\n",
       "6950                               dejligt at møde dig.      Danish\n",
       "2548  [34] Em 10 de janeiro de 2001, Larry Sanger pr...  Portugeese\n",
       "2386  நீங்கள் தவறாக நினைக்கிறீர்கள் என்று நினைக்கிறேன்.       Tamil\n",
       "795   [19]:708–710; 755 Neural networks research had...     English\n",
       "938   An artificial neuron that receives a signal ca...     English\n",
       "6897  Jeg kan ikke tro det, du skal være en sjov på ...      Danish\n",
       "4134                   je ne suis pas libre de le dire.      French\n",
       "4197               je ne peux pas vous remercier assez.      French\n",
       "8180                                    planlar yapmak.     Turkish\n",
       "9634  und dann mach weiter und erkläre, wo du hingek...      German"
      ]
     },
     "execution_count": 8,
     "metadata": {},
     "output_type": "execute_result"
    }
   ],
   "source": [
    "df.sample(10)"
   ]
  },
  {
   "cell_type": "code",
   "execution_count": 9,
   "id": "f8e7a31c",
   "metadata": {},
   "outputs": [
    {
     "data": {
      "text/plain": [
       "English       1385\n",
       "French        1014\n",
       "Spanish        819\n",
       "Portugeese     739\n",
       "Italian        698\n",
       "Russian        692\n",
       "Sweedish       676\n",
       "Malayalam      594\n",
       "Dutch          546\n",
       "Arabic         536\n",
       "Turkish        474\n",
       "German         470\n",
       "Tamil          469\n",
       "Danish         428\n",
       "Kannada        369\n",
       "Greek          365\n",
       "Hindi           63\n",
       "Name: Language, dtype: int64"
      ]
     },
     "execution_count": 9,
     "metadata": {},
     "output_type": "execute_result"
    }
   ],
   "source": [
    "df[\"Language\"].value_counts()"
   ]
  },
  {
   "cell_type": "markdown",
   "id": "b591c505",
   "metadata": {},
   "source": [
    "Data set contains text details for 17 different languages."
   ]
  },
  {
   "cell_type": "markdown",
   "id": "3e9cb1ee",
   "metadata": {
    "tags": []
   },
   "source": [
    "### Missing Value Detection"
   ]
  },
  {
   "cell_type": "code",
   "execution_count": 10,
   "id": "f9112391-a940-48d1-bf80-e6666fd5540d",
   "metadata": {},
   "outputs": [
    {
     "data": {
      "text/plain": [
       "False"
      ]
     },
     "execution_count": 10,
     "metadata": {},
     "output_type": "execute_result"
    }
   ],
   "source": [
    "df.isnull().values.any()"
   ]
  },
  {
   "cell_type": "code",
   "execution_count": 11,
   "id": "5687a7f1",
   "metadata": {},
   "outputs": [
    {
     "data": {
      "text/plain": [
       "Text        0\n",
       "Language    0\n",
       "dtype: int64"
      ]
     },
     "execution_count": 11,
     "metadata": {},
     "output_type": "execute_result"
    }
   ],
   "source": [
    "df.isnull().sum()"
   ]
  },
  {
   "cell_type": "code",
   "execution_count": 12,
   "id": "1314b131",
   "metadata": {},
   "outputs": [
    {
     "name": "stdout",
     "output_type": "stream",
     "text": [
      "<class 'pandas.core.frame.DataFrame'>\n",
      "RangeIndex: 10337 entries, 0 to 10336\n",
      "Data columns (total 2 columns):\n",
      " #   Column    Non-Null Count  Dtype \n",
      "---  ------    --------------  ----- \n",
      " 0   Text      10337 non-null  object\n",
      " 1   Language  10337 non-null  object\n",
      "dtypes: object(2)\n",
      "memory usage: 161.6+ KB\n"
     ]
    }
   ],
   "source": [
    "df.info()"
   ]
  },
  {
   "cell_type": "code",
   "execution_count": 13,
   "id": "4f6582dd",
   "metadata": {},
   "outputs": [
    {
     "data": {
      "text/plain": [
       "False    10271\n",
       "True        66\n",
       "dtype: int64"
      ]
     },
     "execution_count": 13,
     "metadata": {},
     "output_type": "execute_result"
    }
   ],
   "source": [
    "df.duplicated().value_counts()"
   ]
  },
  {
   "cell_type": "markdown",
   "id": "78970ea1",
   "metadata": {},
   "source": [
    "This data set is small data set. I will not drop duplicated value."
   ]
  },
  {
   "cell_type": "markdown",
   "id": "b04b06b0",
   "metadata": {
    "tags": []
   },
   "source": [
    "## Preprocessing"
   ]
  },
  {
   "cell_type": "markdown",
   "id": "009c8ee4-3294-47fa-9d1c-d07b4a2cd3e8",
   "metadata": {},
   "source": [
    "### Dependet and Independet Variables"
   ]
  },
  {
   "cell_type": "markdown",
   "id": "28f7d5e7",
   "metadata": {},
   "source": [
    "To run machine learning algorithms we need to convert text files into numerical feature vectors. We will use bag of words model for our analysis.\n",
    "\n",
    "First we spliting the data into train and test sets:Here, Dataset is broken into two parts in ratio of 80:20. It means 80% data will used for model training and 20% for model testing."
   ]
  },
  {
   "cell_type": "code",
   "execution_count": 44,
   "id": "2faaab77",
   "metadata": {},
   "outputs": [],
   "source": [
    "X = df[\"Text\"]\n",
    "y = df[\"Language\"]"
   ]
  },
  {
   "cell_type": "markdown",
   "id": "d7407a42",
   "metadata": {},
   "source": [
    "Target (output, dependent) and independent variables were determined."
   ]
  },
  {
   "cell_type": "markdown",
   "id": "1008a176",
   "metadata": {},
   "source": [
    "### Label Encoding\n",
    "\n",
    "Lots of machine learning algorithms require numerical input data, so you need to represent categorical columns in a numerical column. In order to encode this data, you could map each value to a number. Language column's value can be represented as numerical."
   ]
  },
  {
   "cell_type": "code",
   "execution_count": 45,
   "id": "bf1a0ed7",
   "metadata": {
    "tags": []
   },
   "outputs": [],
   "source": [
    "from sklearn.preprocessing import LabelEncoder\n",
    "le = LabelEncoder()\n",
    "y = le.fit_transform(y)"
   ]
  },
  {
   "cell_type": "markdown",
   "id": "aec6aa7e",
   "metadata": {},
   "source": [
    "### Clean_data & Text Preprocessing\n",
    "It contains many unwanted symbols, so I should use text preprocessing techniques."
   ]
  },
  {
   "cell_type": "code",
   "execution_count": 65,
   "id": "b2a27488-94b5-45e6-afe3-f154c8dd2faf",
   "metadata": {},
   "outputs": [],
   "source": [
    "import re\n",
    "\n",
    "def preprocessing_clean_data(text):\n",
    "    text = re.sub(r'[!@#$(),\\n\"%^*?\\:;~`0-9]', ' ', text)\n",
    "    text = re.sub(r'[[]]', ' ', text)\n",
    "    text = text.lower()\n",
    "    return text"
   ]
  },
  {
   "cell_type": "code",
   "execution_count": 47,
   "id": "646e4d45-7402-4513-b923-7b565e6b9775",
   "metadata": {
    "tags": []
   },
   "outputs": [
    {
     "data": {
      "text/plain": [
       "[' nature  in the broadest sense  is the natural  physical  material world or universe.',\n",
       " ' nature  can refer to the phenomena of the physical world  and also to life in general.',\n",
       " 'the study of nature is a large  if not the only  part of science.',\n",
       " 'although humans are part of nature  human activity is often understood as a separate category from other natural phenomena.',\n",
       " '[ ] the word nature is borrowed from the old french nature and is derived from the latin word natura  or  essential qualities  innate disposition   and in ancient times  literally meant  birth .',\n",
       " '[ ] in ancient philosophy  natura is mostly used as the latin translation of the greek word physis  φύσις   which originally related to the intrinsic characteristics that plants  animals  and other features of the world develop of their own accord.',\n",
       " '[ ][ ]  the concept of nature as a whole  the physical universe  is one of several expansions of the original notion [ ] it began with certain core applications of the word φύσις by pre-socratic philosophers  though this word had a dynamic dimension then  especially for heraclitus   and has steadily gained currency ever since.',\n",
       " 'during the advent of modern scientific method in the last several centuries  nature became the passive reality  organized and moved by divine laws.',\n",
       " '[ ][ ] with the industrial revolution  nature increasingly became seen as the part of reality deprived from intentional intervention\\xa0  it was hence considered as sacred by some traditions  rousseau  american transcendentalism  or a mere decorum for divine providence or human history  hegel  marx .',\n",
       " 'however  a vitalist vision of nature  closer to the presocratic one  got reborn at the same time  especially after charles darwin.']"
      ]
     },
     "execution_count": 47,
     "metadata": {},
     "output_type": "execute_result"
    }
   ],
   "source": [
    "data_list = [(lambda text : preprocessing_clean_data(text))(text) for text in X]\n",
    "data_list[0:10]"
   ]
  },
  {
   "cell_type": "markdown",
   "id": "1b1e42de",
   "metadata": {},
   "source": [
    "### Vectorization"
   ]
  },
  {
   "cell_type": "markdown",
   "id": "9baece09",
   "metadata": {},
   "source": [
    "A numerical feature vector was created."
   ]
  },
  {
   "cell_type": "code",
   "execution_count": 48,
   "id": "1b4c0377",
   "metadata": {},
   "outputs": [
    {
     "data": {
      "text/plain": [
       "(10337, 39404)"
      ]
     },
     "execution_count": 48,
     "metadata": {},
     "output_type": "execute_result"
    }
   ],
   "source": [
    "from sklearn.feature_extraction.text import CountVectorizer\n",
    "cv = CountVectorizer()\n",
    "X = cv.fit_transform(data_list).toarray()\n",
    "\n",
    "X.shape"
   ]
  },
  {
   "cell_type": "markdown",
   "id": "ec92ae82-3b47-4724-a51d-4320005004d1",
   "metadata": {},
   "source": [
    "### Split Data"
   ]
  },
  {
   "cell_type": "markdown",
   "id": "3ea0e9b6-4469-4ebd-bc0c-c0ae0b58ddfe",
   "metadata": {},
   "source": [
    "Data is split as train and test with train_test_split. Test 20%, Train 80%. "
   ]
  },
  {
   "cell_type": "code",
   "execution_count": 49,
   "id": "7845ddad",
   "metadata": {},
   "outputs": [
    {
     "data": {
      "text/plain": [
       "[(8269, 39404), (2068, 39404), (8269,), (2068,)]"
      ]
     },
     "execution_count": 49,
     "metadata": {},
     "output_type": "execute_result"
    }
   ],
   "source": [
    "from sklearn.model_selection import train_test_split\n",
    "\n",
    "X_train, X_test, y_train, y_test = train_test_split(X, y, test_size = 0.20, stratify = y, random_state = 42)\n",
    "\n",
    "[X_train.shape, X_test.shape, y_train.shape, y_test.shape]"
   ]
  },
  {
   "cell_type": "markdown",
   "id": "10ad42be",
   "metadata": {
    "tags": []
   },
   "source": [
    "## Model Building\n",
    "\n",
    "The x_train, y_train datasets are trained with the following models."
   ]
  },
  {
   "cell_type": "markdown",
   "id": "0380134e-3f9b-4318-8e75-f10e5127d7a9",
   "metadata": {},
   "source": [
    "* Naive Bayes classifier\n",
    "* Logistic Regression\n",
    "* Support Vector Machine (SVM)\n",
    "* Random Forest \n",
    "* XGBClassifier\n",
    "* GradientBoostingClassifier"
   ]
  },
  {
   "cell_type": "code",
   "execution_count": 62,
   "id": "dfe470d7",
   "metadata": {},
   "outputs": [],
   "source": [
    "from sklearn.naive_bayes import MultinomialNB\n",
    "from sklearn.linear_model import LogisticRegression\n",
    "from sklearn.svm import LinearSVC\n",
    "from sklearn.ensemble import RandomForestClassifier\n",
    "from xgboost import XGBClassifier\n",
    "from sklearn.ensemble import GradientBoostingClassifier\n",
    "from catboost import CatBoostClassifier\n",
    "\n",
    "from sklearn.metrics import accuracy_score, confusion_matrix, classification_report, f1_score\n",
    "from sklearn.model_selection import cross_val_score, GridSearchCV     #GridSearchCV is used to find the optimum hyperparameters.\n",
    "\n",
    "import joblib    # to save models or accuracy\n"
   ]
  },
  {
   "cell_type": "markdown",
   "id": "752182f9-9f0c-4680-be8b-df7d6ebcb5db",
   "metadata": {
    "tags": []
   },
   "source": [
    "### Naive Bayes"
   ]
  },
  {
   "cell_type": "code",
   "execution_count": 50,
   "id": "29edbb90",
   "metadata": {},
   "outputs": [],
   "source": [
    "model = MultinomialNB()\n",
    "nb_model = model.fit(X_train, y_train)\n",
    "\n",
    "y_pred = model.predict(X_test)"
   ]
  },
  {
   "cell_type": "code",
   "execution_count": 51,
   "id": "5247edbc",
   "metadata": {
    "tags": []
   },
   "outputs": [
    {
     "data": {
      "text/plain": [
       "0.9763056092843327"
      ]
     },
     "execution_count": 51,
     "metadata": {},
     "output_type": "execute_result"
    }
   ],
   "source": [
    "acc_NB = accuracy_score(y_test, y_pred)\n",
    "\n",
    "acc_NB\n"
   ]
  },
  {
   "cell_type": "code",
   "execution_count": 61,
   "id": "62dfd83d-f975-4032-affa-cf4a50b863a6",
   "metadata": {},
   "outputs": [],
   "source": [
    "#joblib.dump(acc_NB, 'acc_NB.pkl')"
   ]
  },
  {
   "cell_type": "markdown",
   "id": "5e1e85c0-f631-438a-93d0-06cd6da92edc",
   "metadata": {
    "tags": []
   },
   "source": [
    "### Classification Report"
   ]
  },
  {
   "cell_type": "code",
   "execution_count": 261,
   "id": "a6a2b541",
   "metadata": {
    "tags": []
   },
   "outputs": [
    {
     "name": "stdout",
     "output_type": "stream",
     "text": [
      "              precision    recall  f1-score   support\n",
      "\n",
      "           0       1.00      0.95      0.98       107\n",
      "           1       1.00      0.98      0.99        86\n",
      "           2       1.00      0.97      0.99       109\n",
      "           3       0.88      0.99      0.93       277\n",
      "           4       0.99      0.99      0.99       203\n",
      "           5       1.00      0.98      0.99        94\n",
      "           6       1.00      0.97      0.99        73\n",
      "           7       1.00      1.00      1.00        12\n",
      "           8       1.00      0.98      0.99       140\n",
      "           9       1.00      0.95      0.97        74\n",
      "          10       0.98      0.99      0.98       119\n",
      "          11       1.00      0.98      0.99       148\n",
      "          12       1.00      0.96      0.98       138\n",
      "          13       0.97      0.99      0.98       164\n",
      "          14       0.99      0.98      0.99       135\n",
      "          15       1.00      0.98      0.99        94\n",
      "          16       1.00      0.92      0.96        95\n",
      "\n",
      "    accuracy                           0.98      2068\n",
      "   macro avg       0.99      0.97      0.98      2068\n",
      "weighted avg       0.98      0.98      0.98      2068\n",
      "\n"
     ]
    }
   ],
   "source": [
    "cm = confusion_matrix(y_test, y_pred)\n",
    "cr = classification_report(y_test, y_pred)\n",
    "\n",
    "cr"
   ]
  },
  {
   "cell_type": "markdown",
   "id": "b3452958",
   "metadata": {
    "tags": []
   },
   "source": [
    "### Visualization\n",
    "#### Confusion Matrix & Yellow Blick "
   ]
  },
  {
   "cell_type": "code",
   "execution_count": 262,
   "id": "f933532f",
   "metadata": {},
   "outputs": [
    {
     "data": {
      "image/png": "[encoded data removed]",
      "text/plain": [
       "<Figure size 1080x720 with 2 Axes>"
      ]
     },
     "metadata": {
      "needs_background": "light"
     },
     "output_type": "display_data"
    }
   ],
   "source": [
    "plt.figure(figsize=(15,10))\n",
    "sns.heatmap(cm, annot = True, fmt=\"d\", linewidths=.5, cmap=\"YlGnBu\")\n",
    "plt.show()"
   ]
  },
  {
   "cell_type": "code",
   "execution_count": 263,
   "id": "f41108d0",
   "metadata": {
    "tags": []
   },
   "outputs": [
    {
     "data": {
      "image/png": "[encoded data removed]",
      "text/plain": [
       "<Figure size 576x396 with 1 Axes>"
      ]
     },
     "metadata": {},
     "output_type": "display_data"
    }
   ],
   "source": [
    "from yellowbrick.classifier import ClassPredictionError\n",
    "\n",
    "visualizer = ClassPredictionError(model)\n",
    "\n",
    "# Fit the training data to the visualizer\n",
    "visualizer.fit(X_train, y_train)\n",
    "\n",
    "# Evaluate the model on the test data\n",
    "visualizer.score(X_test, y_test)\n",
    "\n",
    "# Draw visualization\n",
    "visualizer.poof();"
   ]
  },
  {
   "cell_type": "markdown",
   "id": "e1f5065a",
   "metadata": {},
   "source": [
    "This grahpic shows us prediction error. Model finds texts of 0,1 ve 2 languages as %100 accuracy. There are 38 errors for 300 texts of 3 language."
   ]
  },
  {
   "cell_type": "markdown",
   "id": "4a18b6b3",
   "metadata": {},
   "source": [
    "### Logistic Regression"
   ]
  },
  {
   "cell_type": "code",
   "execution_count": 18,
   "id": "99e0fd9b",
   "metadata": {},
   "outputs": [
    {
     "data": {
      "text/plain": [
       "0.9535783365570599"
      ]
     },
     "execution_count": 18,
     "metadata": {},
     "output_type": "execute_result"
    }
   ],
   "source": [
    "logmodel_count = LogisticRegression(C = 10, max_iter=10000)\n",
    "logmodel_count.fit(X_train, y_train)\n",
    "\n",
    "y_pred = logmodel_count.predict(X_test)\n",
    "acc_LR = accuracy_score(y_test, y_pred)\n",
    "acc_LR"
   ]
  },
  {
   "cell_type": "code",
   "execution_count": 31,
   "id": "8fd5eb32-303e-480d-929d-d19ea18f80b5",
   "metadata": {},
   "outputs": [
    {
     "data": {
      "text/plain": [
       "['acc_LR.pkl']"
      ]
     },
     "execution_count": 31,
     "metadata": {},
     "output_type": "execute_result"
    }
   ],
   "source": [
    "#joblib.dump(acc_LR, 'acc_LR.pkl')"
   ]
  },
  {
   "cell_type": "markdown",
   "id": "aa1c4932-f259-4c31-8e68-0ca9a5c50331",
   "metadata": {
    "tags": []
   },
   "source": [
    "### Visualization\n",
    "#### Confusion Matrix & Yellow Blick "
   ]
  },
  {
   "cell_type": "code",
   "execution_count": 14,
   "id": "ac1af21d",
   "metadata": {},
   "outputs": [
    {
     "name": "stdout",
     "output_type": "stream",
     "text": [
      "[[ 95   0   0   0   0   0   0   0   0  12   0   0   0   0   0   0   0]\n",
      " [  0  80   0   0   0   0   0   0   0   3   0   0   0   1   2   0   0]\n",
      " [  0   1 105   0   0   0   0   0   0   2   0   0   0   0   1   0   0]\n",
      " [  0   0   0 272   0   0   0   0   1   3   0   0   0   1   0   0   0]\n",
      " [  0   0   0   1 196   0   0   0   0   4   0   1   0   1   0   0   0]\n",
      " [  0   0   0   0   0  90   0   0   0   3   0   0   0   0   1   0   0]\n",
      " [  0   0   0   0   0   0  67   0   0   6   0   0   0   0   0   0   0]\n",
      " [  0   0   0   0   0   0   0  12   0   0   0   0   0   0   0   0   0]\n",
      " [  0   0   0   0   1   0   0   0 133   5   0   0   0   1   0   0   0]\n",
      " [  0   0   0   0   0   0   0   0   0  74   0   0   0   0   0   0   0]\n",
      " [  0   0   0   0   0   0   0   0   0   2 117   0   0   0   0   0   0]\n",
      " [  0   0   0   0   0   0   0   0   0   3   0 141   0   4   0   0   0]\n",
      " [  0   0   0   0   0   0   0   0   0   7   0   0 131   0   0   0   0]\n",
      " [  0   0   0   1   0   0   0   0   3   3   0   0   0 157   0   0   0]\n",
      " [  0   4   0   1   0   0   0   0   0   2   0   0   0   2 126   0   0]\n",
      " [  0   0   0   0   0   0   0   0   0   2   0   0   0   0   0  92   0]\n",
      " [  0   0   0   0   0   0   0   0   0  11   0   0   0   0   0   0  84]]\n",
      "              precision    recall  f1-score   support\n",
      "\n",
      "           0       1.00      0.89      0.94       107\n",
      "           1       0.94      0.93      0.94        86\n",
      "           2       1.00      0.96      0.98       109\n",
      "           3       0.99      0.98      0.99       277\n",
      "           4       0.99      0.97      0.98       203\n",
      "           5       1.00      0.96      0.98        94\n",
      "           6       1.00      0.92      0.96        73\n",
      "           7       1.00      1.00      1.00        12\n",
      "           8       0.97      0.95      0.96       140\n",
      "           9       0.52      1.00      0.69        74\n",
      "          10       1.00      0.98      0.99       119\n",
      "          11       0.99      0.95      0.97       148\n",
      "          12       1.00      0.95      0.97       138\n",
      "          13       0.94      0.96      0.95       164\n",
      "          14       0.97      0.93      0.95       135\n",
      "          15       1.00      0.98      0.99        94\n",
      "          16       1.00      0.88      0.94        95\n",
      "\n",
      "    accuracy                           0.95      2068\n",
      "   macro avg       0.96      0.95      0.95      2068\n",
      "weighted avg       0.97      0.95      0.96      2068\n",
      "\n"
     ]
    }
   ],
   "source": [
    "print(confusion_matrix(y_test, y_pred))\n",
    "print(classification_report(y_test, y_pred))\n"
   ]
  },
  {
   "cell_type": "markdown",
   "id": "e225d88e",
   "metadata": {},
   "source": [
    "Accuracy for Logistic Regression model is 0.95."
   ]
  },
  {
   "cell_type": "markdown",
   "id": "2f79d9c7",
   "metadata": {},
   "source": [
    "### Support Vector Machine (SVM)"
   ]
  },
  {
   "cell_type": "code",
   "execution_count": 20,
   "id": "6ee02a4a",
   "metadata": {},
   "outputs": [
    {
     "data": {
      "text/plain": [
       "0.9487427466150871"
      ]
     },
     "execution_count": 20,
     "metadata": {},
     "output_type": "execute_result"
    }
   ],
   "source": [
    "svm_count = LinearSVC(C=10).fit(X_train, y_train)\n",
    "y_pred = svm_count.predict(X_test)\n",
    "\n",
    "acc_SVM = accuracy_score(y_test, y_pred)\n",
    "acc_SVM"
   ]
  },
  {
   "cell_type": "code",
   "execution_count": 32,
   "id": "6125b42a-1a2c-4d6d-a80d-66d59c99d2ba",
   "metadata": {},
   "outputs": [
    {
     "data": {
      "text/plain": [
       "['acc_SVM.pkl']"
      ]
     },
     "execution_count": 32,
     "metadata": {},
     "output_type": "execute_result"
    }
   ],
   "source": [
    "#joblib.dump(acc_SVM, 'acc_SVM.pkl')"
   ]
  },
  {
   "cell_type": "code",
   "execution_count": null,
   "id": "b4e7bbc2-4cb0-40be-bd52-f5a559e92f49",
   "metadata": {},
   "outputs": [],
   "source": [
    "print(confusion_matrix(y_test, y_pred))\n",
    "print(classification_report(y_test, y_pred))"
   ]
  },
  {
   "cell_type": "markdown",
   "id": "a6bfa06b",
   "metadata": {},
   "source": [
    "Accuracy for Support Vector Machine model is 0.95."
   ]
  },
  {
   "cell_type": "markdown",
   "id": "f713a978",
   "metadata": {
    "tags": []
   },
   "source": [
    "### Random Forest "
   ]
  },
  {
   "cell_type": "code",
   "execution_count": 22,
   "id": "64238cb9",
   "metadata": {},
   "outputs": [
    {
     "data": {
      "text/plain": [
       "0.9347195357833655"
      ]
     },
     "execution_count": 22,
     "metadata": {},
     "output_type": "execute_result"
    }
   ],
   "source": [
    "rf_count = RandomForestClassifier(500, n_jobs = -1, min_samples_split =3, random_state = 42).fit(X_train, y_train)\n",
    "y_pred = rf_count.predict(X_test)\n",
    "\n",
    "acc_RF = accuracy_score(y_test, y_pred)\n",
    "acc_RF"
   ]
  },
  {
   "cell_type": "code",
   "execution_count": 33,
   "id": "eda4c250-d7d6-4b64-af56-fc3bd6850ff1",
   "metadata": {},
   "outputs": [
    {
     "data": {
      "text/plain": [
       "['acc_RF.pkl']"
      ]
     },
     "execution_count": 33,
     "metadata": {},
     "output_type": "execute_result"
    }
   ],
   "source": [
    "#joblib.dump(acc_RF, 'acc_RF.pkl')"
   ]
  },
  {
   "cell_type": "code",
   "execution_count": 27,
   "id": "92d0b722-e241-4014-8659-63e8e73c04be",
   "metadata": {},
   "outputs": [
    {
     "name": "stdout",
     "output_type": "stream",
     "text": [
      "[[ 93   0   0   1   0   0   0   0   0  13   0   0   0   0   0   0   0]\n",
      " [  0  81   0   0   0   0   0   0   0   3   0   0   0   0   2   0   0]\n",
      " [  0   0 105   0   0   0   0   0   0   2   0   0   0   1   1   0   0]\n",
      " [  0   0   0 270   0   0   0   0   1   4   0   0   0   2   0   0   0]\n",
      " [  0   0   0   2 193   0   0   0   0   6   0   1   0   1   0   0   0]\n",
      " [  0   0   0   0   0  90   0   0   0   3   0   0   0   0   1   0   0]\n",
      " [  0   0   0   0   0   0  66   0   0   7   0   0   0   0   0   0   0]\n",
      " [  0   0   0   0   0   0   0  12   0   0   0   0   0   0   0   0   0]\n",
      " [  0   0   0   0   0   0   0   0 127   8   0   0   0   4   0   0   1]\n",
      " [  0   0   0   0   0   0   0   0   0  74   0   0   0   0   0   0   0]\n",
      " [  0   0   0   0   0   0   0   0   0   6 113   0   0   0   0   0   0]\n",
      " [  0   0   0   1   0   0   0   0   0   4   0 140   0   3   0   0   0]\n",
      " [  0   0   0   0   0   0   0   0   0  13   0   0 125   0   0   0   0]\n",
      " [  0   0   0   1   2   0   0   0   4   6   0   1   0 150   0   0   0]\n",
      " [  0   4   0   1   0   0   0   0   0   2   0   0   0   2 126   0   0]\n",
      " [  0   0   0   0   0   0   0   0   0   2   0   0   0   0   0  92   0]\n",
      " [  0   0   0   0   0   0   0   0   0  19   0   0   0   0   0   0  76]]\n",
      "              precision    recall  f1-score   support\n",
      "\n",
      "           0       1.00      0.87      0.93       107\n",
      "           1       0.95      0.94      0.95        86\n",
      "           2       1.00      0.96      0.98       109\n",
      "           3       0.98      0.97      0.98       277\n",
      "           4       0.99      0.95      0.97       203\n",
      "           5       1.00      0.96      0.98        94\n",
      "           6       1.00      0.90      0.95        73\n",
      "           7       1.00      1.00      1.00        12\n",
      "           8       0.96      0.91      0.93       140\n",
      "           9       0.43      1.00      0.60        74\n",
      "          10       1.00      0.95      0.97       119\n",
      "          11       0.99      0.95      0.97       148\n",
      "          12       1.00      0.91      0.95       138\n",
      "          13       0.92      0.91      0.92       164\n",
      "          14       0.97      0.93      0.95       135\n",
      "          15       1.00      0.98      0.99        94\n",
      "          16       0.99      0.80      0.88        95\n",
      "\n",
      "    accuracy                           0.93      2068\n",
      "   macro avg       0.95      0.94      0.94      2068\n",
      "weighted avg       0.96      0.93      0.94      2068\n",
      "\n"
     ]
    }
   ],
   "source": [
    "print(confusion_matrix(y_test, y_pred))\n",
    "print(classification_report(y_test, y_pred))"
   ]
  },
  {
   "cell_type": "markdown",
   "id": "e92e13ec",
   "metadata": {},
   "source": [
    "Accuracy for Random Forest model is 0.93."
   ]
  },
  {
   "cell_type": "code",
   "execution_count": 44,
   "id": "248c9f38",
   "metadata": {},
   "outputs": [
    {
     "data": {
      "image/png": "[encoded data removed]",
      "text/plain": [
       "<Figure size 576x396 with 1 Axes>"
      ]
     },
     "metadata": {},
     "output_type": "display_data"
    }
   ],
   "source": [
    "from yellowbrick.classifier import ClassPredictionError\n",
    "\n",
    "visualizer = ClassPredictionError(rf_count)\n",
    "\n",
    "# Fit the training data to the visualizer\n",
    "visualizer.fit(X_train, y_train)\n",
    "\n",
    "# Evaluate the model on the test data\n",
    "visualizer.score(X_test, y_test)\n",
    "\n",
    "# Draw visualization\n",
    "visualizer.poof();"
   ]
  },
  {
   "cell_type": "markdown",
   "id": "0fccbd1f-4fa5-40af-aaa1-b9bfc4e45d3b",
   "metadata": {},
   "source": [
    "### XGB"
   ]
  },
  {
   "cell_type": "code",
   "execution_count": 37,
   "id": "aafbf27f-5eb0-4ccb-bcf6-de8319daca09",
   "metadata": {},
   "outputs": [
    {
     "name": "stdout",
     "output_type": "stream",
     "text": [
      "[20:05:18] WARNING: C:/Users/Administrator/workspace/xgboost-win64_release_1.6.0/src/learner.cc:627: \n",
      "Parameters: { \"verbose\" } might not be used.\n",
      "\n",
      "  This could be a false alarm, with some parameters getting used by language bindings but\n",
      "  then being mistakenly passed down to XGBoost core, or some parameter actually being used\n",
      "  but getting flagged wrongly here. Please open an issue if you find any such cases.\n",
      "\n",
      "\n"
     ]
    },
    {
     "data": {
      "text/plain": [
       "0.9115087040618955"
      ]
     },
     "execution_count": 37,
     "metadata": {},
     "output_type": "execute_result"
    }
   ],
   "source": [
    "xgb_model = XGBClassifier(n_estimators=100, n_jobs=-1, verbose=2).fit(X_train, y_train)\n",
    "\n",
    "y_pred = xgb_model.predict(X_test)\n",
    "acc_XGB = accuracy_score(y_test, y_pred)\n",
    "acc_XGB"
   ]
  },
  {
   "cell_type": "code",
   "execution_count": 38,
   "id": "b23ae852-95d4-49ee-88b1-a8fa60387ed8",
   "metadata": {},
   "outputs": [
    {
     "data": {
      "text/plain": [
       "['acc_XGB.pkl']"
      ]
     },
     "execution_count": 38,
     "metadata": {},
     "output_type": "execute_result"
    }
   ],
   "source": [
    "#joblib.dump(acc_XGB, 'acc_XGB.pkl')"
   ]
  },
  {
   "cell_type": "code",
   "execution_count": 14,
   "id": "913fd419-8e0b-4e41-8fdc-75bcf932d787",
   "metadata": {
    "collapsed": true,
    "jupyter": {
     "outputs_hidden": true
    },
    "tags": []
   },
   "outputs": [
    {
     "data": {
      "text/plain": [
       "\u001b[1;31mType:\u001b[0m        XGBClassifier\n",
       "\u001b[1;31mString form:\u001b[0m\n",
       "XGBClassifier(base_score=None, booster=None, callbacks=None,\n",
       "           colsample_bylevel=None <...> tree=None, predictor=None, random_state=None,\n",
       "           reg_alpha=None, reg_lambda=None, ...)\n",
       "\u001b[1;31mFile:\u001b[0m        c:\\users\\omerk\\appdata\\local\\packages\\pythonsoftwarefoundation.python.3.10_qbz5n2kfra8p0\\localcache\\local-packages\\python310\\site-packages\\xgboost\\sklearn.py\n",
       "\u001b[1;31mDocstring:\u001b[0m  \n",
       "Implementation of the scikit-learn API for XGBoost classification.\n",
       "\n",
       "\n",
       "Parameters\n",
       "----------\n",
       "\n",
       "    n_estimators : int\n",
       "        Number of boosting rounds.\n",
       "\n",
       "    max_depth :  Optional[int]\n",
       "        Maximum tree depth for base learners.\n",
       "    max_leaves :\n",
       "        Maximum number of leaves; 0 indicates no limit.\n",
       "    max_bin :\n",
       "        If using histogram-based algorithm, maximum number of bins per feature\n",
       "    grow_policy :\n",
       "        Tree growing policy. 0: favor splitting at nodes closest to the node, i.e. grow\n",
       "        depth-wise. 1: favor splitting at nodes with highest loss change.\n",
       "    learning_rate : Optional[float]\n",
       "        Boosting learning rate (xgb's \"eta\")\n",
       "    verbosity : Optional[int]\n",
       "        The degree of verbosity. Valid values are 0 (silent) - 3 (debug).\n",
       "    objective : typing.Union[str, typing.Callable[[numpy.ndarray, numpy.ndarray], typing.Tuple[numpy.ndarray, numpy.ndarray]], NoneType]\n",
       "        Specify the learning task and the corresponding learning objective or\n",
       "        a custom objective function to be used (see note below).\n",
       "    booster: Optional[str]\n",
       "        Specify which booster to use: gbtree, gblinear or dart.\n",
       "    tree_method: Optional[str]\n",
       "        Specify which tree method to use.  Default to auto.  If this parameter is set to\n",
       "        default, XGBoost will choose the most conservative option available.  It's\n",
       "        recommended to study this option from the parameters document :doc:`tree method\n",
       "        </treemethod>`\n",
       "    n_jobs : Optional[int]\n",
       "        Number of parallel threads used to run xgboost.  When used with other Scikit-Learn\n",
       "        algorithms like grid search, you may choose which algorithm to parallelize and\n",
       "        balance the threads.  Creating thread contention will significantly slow down both\n",
       "        algorithms.\n",
       "    gamma : Optional[float]\n",
       "        (min_split_loss) Minimum loss reduction required to make a further partition on a\n",
       "        leaf node of the tree.\n",
       "    min_child_weight : Optional[float]\n",
       "        Minimum sum of instance weight(hessian) needed in a child.\n",
       "    max_delta_step : Optional[float]\n",
       "        Maximum delta step we allow each tree's weight estimation to be.\n",
       "    subsample : Optional[float]\n",
       "        Subsample ratio of the training instance.\n",
       "    sampling_method :\n",
       "        Sampling method. Used only by `gpu_hist` tree method.\n",
       "          - `uniform`: select random training instances uniformly.\n",
       "          - `gradient_based` select random training instances with higher probability when\n",
       "            the gradient and hessian are larger. (cf. CatBoost)\n",
       "    colsample_bytree : Optional[float]\n",
       "        Subsample ratio of columns when constructing each tree.\n",
       "    colsample_bylevel : Optional[float]\n",
       "        Subsample ratio of columns for each level.\n",
       "    colsample_bynode : Optional[float]\n",
       "        Subsample ratio of columns for each split.\n",
       "    reg_alpha : Optional[float]\n",
       "        L1 regularization term on weights (xgb's alpha).\n",
       "    reg_lambda : Optional[float]\n",
       "        L2 regularization term on weights (xgb's lambda).\n",
       "    scale_pos_weight : Optional[float]\n",
       "        Balancing of positive and negative weights.\n",
       "    base_score : Optional[float]\n",
       "        The initial prediction score of all instances, global bias.\n",
       "    random_state : Optional[Union[numpy.random.RandomState, int]]\n",
       "        Random number seed.\n",
       "\n",
       "        .. note::\n",
       "\n",
       "           Using gblinear booster with shotgun updater is nondeterministic as\n",
       "           it uses Hogwild algorithm.\n",
       "\n",
       "    missing : float, default np.nan\n",
       "        Value in the data which needs to be present as a missing value.\n",
       "    num_parallel_tree: Optional[int]\n",
       "        Used for boosting random forest.\n",
       "    monotone_constraints : Optional[Union[Dict[str, int], str]]\n",
       "        Constraint of variable monotonicity.  See :doc:`tutorial </tutorials/monotonic>`\n",
       "        for more information.\n",
       "    interaction_constraints : Optional[Union[str, List[Tuple[str]]]]\n",
       "        Constraints for interaction representing permitted interactions.  The\n",
       "        constraints must be specified in the form of a nested list, e.g. ``[[0, 1], [2,\n",
       "        3, 4]]``, where each inner list is a group of indices of features that are\n",
       "        allowed to interact with each other.  See :doc:`tutorial\n",
       "        </tutorials/feature_interaction_constraint>` for more information\n",
       "    importance_type: Optional[str]\n",
       "        The feature importance type for the feature_importances\\_ property:\n",
       "\n",
       "        * For tree model, it's either \"gain\", \"weight\", \"cover\", \"total_gain\" or\n",
       "          \"total_cover\".\n",
       "        * For linear model, only \"weight\" is defined and it's the normalized coefficients\n",
       "          without bias.\n",
       "\n",
       "    gpu_id : Optional[int]\n",
       "        Device ordinal.\n",
       "    validate_parameters : Optional[bool]\n",
       "        Give warnings for unknown parameter.\n",
       "    predictor : Optional[str]\n",
       "        Force XGBoost to use specific predictor, available choices are [cpu_predictor,\n",
       "        gpu_predictor].\n",
       "    enable_categorical : bool\n",
       "\n",
       "        .. versionadded:: 1.5.0\n",
       "\n",
       "        .. note:: This parameter is experimental\n",
       "\n",
       "        Experimental support for categorical data.  When enabled, cudf/pandas.DataFrame\n",
       "        should be used to specify categorical data type.  Also, JSON/UBJSON\n",
       "        serialization format is required.\n",
       "\n",
       "    max_cat_to_onehot : Optional[int]\n",
       "\n",
       "        .. versionadded:: 1.6.0\n",
       "\n",
       "        .. note:: This parameter is experimental\n",
       "\n",
       "        A threshold for deciding whether XGBoost should use one-hot encoding based split\n",
       "        for categorical data.  When number of categories is lesser than the threshold\n",
       "        then one-hot encoding is chosen, otherwise the categories will be partitioned\n",
       "        into children nodes.  Only relevant for regression and binary classification.\n",
       "        See :doc:`Categorical Data </tutorials/categorical>` for details.\n",
       "\n",
       "    eval_metric : Optional[Union[str, List[str], Callable]]\n",
       "\n",
       "        .. versionadded:: 1.6.0\n",
       "\n",
       "        Metric used for monitoring the training result and early stopping.  It can be a\n",
       "        string or list of strings as names of predefined metric in XGBoost (See\n",
       "        doc/parameter.rst), one of the metrics in :py:mod:`sklearn.metrics`, or any other\n",
       "        user defined metric that looks like `sklearn.metrics`.\n",
       "\n",
       "        If custom objective is also provided, then custom metric should implement the\n",
       "        corresponding reverse link function.\n",
       "\n",
       "        Unlike the `scoring` parameter commonly used in scikit-learn, when a callable\n",
       "        object is provided, it's assumed to be a cost function and by default XGBoost will\n",
       "        minimize the result during early stopping.\n",
       "\n",
       "        For advanced usage on Early stopping like directly choosing to maximize instead of\n",
       "        minimize, see :py:obj:`xgboost.callback.EarlyStopping`.\n",
       "\n",
       "        See :doc:`Custom Objective and Evaluation Metric </tutorials/custom_metric_obj>`\n",
       "        for more.\n",
       "\n",
       "        .. note::\n",
       "\n",
       "             This parameter replaces `eval_metric` in :py:meth:`fit` method.  The old one\n",
       "             receives un-transformed prediction regardless of whether custom objective is\n",
       "             being used.\n",
       "\n",
       "        .. code-block:: python\n",
       "\n",
       "            from sklearn.datasets import load_diabetes\n",
       "            from sklearn.metrics import mean_absolute_error\n",
       "            X, y = load_diabetes(return_X_y=True)\n",
       "            reg = xgb.XGBRegressor(\n",
       "                tree_method=\"hist\",\n",
       "                eval_metric=mean_absolute_error,\n",
       "            )\n",
       "            reg.fit(X, y, eval_set=[(X, y)])\n",
       "\n",
       "    early_stopping_rounds : Optional[int]\n",
       "\n",
       "        .. versionadded:: 1.6.0\n",
       "\n",
       "        Activates early stopping. Validation metric needs to improve at least once in\n",
       "        every **early_stopping_rounds** round(s) to continue training.  Requires at least\n",
       "        one item in **eval_set** in :py:meth:`fit`.\n",
       "\n",
       "        The method returns the model from the last iteration (not the best one).  If\n",
       "        there's more than one item in **eval_set**, the last entry will be used for early\n",
       "        stopping.  If there's more than one metric in **eval_metric**, the last metric\n",
       "        will be used for early stopping.\n",
       "\n",
       "        If early stopping occurs, the model will have three additional fields:\n",
       "        :py:attr:`best_score`, :py:attr:`best_iteration` and\n",
       "        :py:attr:`best_ntree_limit`.\n",
       "\n",
       "        .. note::\n",
       "\n",
       "            This parameter replaces `early_stopping_rounds` in :py:meth:`fit` method.\n",
       "\n",
       "    callbacks : Optional[List[TrainingCallback]]\n",
       "        List of callback functions that are applied at end of each iteration.\n",
       "        It is possible to use predefined callbacks by using\n",
       "        :ref:`Callback API <callback_api>`.\n",
       "\n",
       "        .. note::\n",
       "\n",
       "           States in callback are not preserved during training, which means callback\n",
       "           objects can not be reused for multiple training sessions without\n",
       "           reinitialization or deepcopy.\n",
       "\n",
       "        .. code-block:: python\n",
       "\n",
       "            for params in parameters_grid:\n",
       "                # be sure to (re)initialize the callbacks before each run\n",
       "                callbacks = [xgb.callback.LearningRateScheduler(custom_rates)]\n",
       "                xgboost.train(params, Xy, callbacks=callbacks)\n",
       "\n",
       "    kwargs : dict, optional\n",
       "        Keyword arguments for XGBoost Booster object.  Full documentation of parameters\n",
       "        can be found :doc:`here </parameter>`.\n",
       "        Attempting to set a parameter via the constructor args and \\*\\*kwargs\n",
       "        dict simultaneously will result in a TypeError.\n",
       "\n",
       "        .. note:: \\*\\*kwargs unsupported by scikit-learn\n",
       "\n",
       "            \\*\\*kwargs is unsupported by scikit-learn.  We do not guarantee\n",
       "            that parameters passed via this argument will interact properly\n",
       "            with scikit-learn.\n",
       "\n",
       "        .. note::  Custom objective function\n",
       "\n",
       "            A custom objective function can be provided for the ``objective``\n",
       "            parameter. In this case, it should have the signature\n",
       "            ``objective(y_true, y_pred) -> grad, hess``:\n",
       "\n",
       "            y_true: array_like of shape [n_samples]\n",
       "                The target values\n",
       "            y_pred: array_like of shape [n_samples]\n",
       "                The predicted values\n",
       "\n",
       "            grad: array_like of shape [n_samples]\n",
       "                The value of the gradient for each sample point.\n",
       "            hess: array_like of shape [n_samples]\n",
       "                The value of the second derivative for each sample point\n"
      ]
     },
     "metadata": {},
     "output_type": "display_data"
    }
   ],
   "source": [
    "?xgb_model"
   ]
  },
  {
   "cell_type": "code",
   "execution_count": 14,
   "id": "db709cbe-ad3b-4399-a4c3-9cee1dd7db07",
   "metadata": {},
   "outputs": [],
   "source": [
    "xgb_params = {\"n_estimators\" : [100, 500, 1000],\n",
    "              \"subsample\" : [0.6, 0.8, 1],\n",
    "              \"max_depth\" : [3, 7, 10],\n",
    "              \"learning_rate\" : [0.1, 0.01, 0.001]\n",
    "}\n",
    "\n",
    "xgb = XGBClassifier()"
   ]
  },
  {
   "cell_type": "code",
   "execution_count": 1,
   "id": "a9c465e2-63dd-4c5e-9479-494551fbb6de",
   "metadata": {
    "collapsed": true,
    "jupyter": {
     "outputs_hidden": true
    },
    "tags": []
   },
   "outputs": [
    {
     "ename": "NameError",
     "evalue": "name 'GridSearchCV' is not defined",
     "output_type": "error",
     "traceback": [
      "\u001b[1;31m---------------------------------------------------------------------------\u001b[0m",
      "\u001b[1;31mNameError\u001b[0m                                 Traceback (most recent call last)",
      "Input \u001b[1;32mIn [1]\u001b[0m, in \u001b[0;36m<cell line: 1>\u001b[1;34m()\u001b[0m\n\u001b[1;32m----> 1\u001b[0m xgb_cv_model \u001b[38;5;241m=\u001b[39m \u001b[43mGridSearchCV\u001b[49m(xgb, xgb_params, cv\u001b[38;5;241m=\u001b[39m\u001b[38;5;241m3\u001b[39m, n_jobs\u001b[38;5;241m=\u001b[39m\u001b[38;5;241m-\u001b[39m\u001b[38;5;241m1\u001b[39m, verbose\u001b[38;5;241m=\u001b[39m\u001b[38;5;241m2\u001b[39m)\u001b[38;5;241m.\u001b[39mfit(X_train, y_train)\n",
      "\u001b[1;31mNameError\u001b[0m: name 'GridSearchCV' is not defined"
     ]
    }
   ],
   "source": [
    "xgb_cv_model = GridSearchCV(xgb, xgb_params, cv=3, n_jobs=-1, verbose=2).fit(X_train, y_train)"
   ]
  },
  {
   "cell_type": "code",
   "execution_count": null,
   "id": "466b18d7-fa23-487c-ae6e-c7636f670fa9",
   "metadata": {},
   "outputs": [],
   "source": [
    "xgb_cv_model.best_params_"
   ]
  },
  {
   "cell_type": "code",
   "execution_count": null,
   "id": "1158528a-e0e7-4260-8b35-48e5b85971c7",
   "metadata": {},
   "outputs": [],
   "source": [
    "xgb_tuned = XGBClassifier().fit(X_train, y_train)"
   ]
  },
  {
   "cell_type": "code",
   "execution_count": null,
   "id": "bd1f1bcf-2ae6-4a6b-b3c5-df051781dfb0",
   "metadata": {},
   "outputs": [],
   "source": [
    "y_pred = xgb_tuned.predict(X_test)\n",
    "acc_XGB = accuracy_score(y_test, y_pred)"
   ]
  },
  {
   "cell_type": "markdown",
   "id": "54ae72ab-2f56-4c52-986d-3371fcb89a21",
   "metadata": {},
   "source": [
    "### GBM"
   ]
  },
  {
   "cell_type": "code",
   "execution_count": 12,
   "id": "96fe3e7d-e1ff-4265-9428-ea492faef78e",
   "metadata": {
    "tags": []
   },
   "outputs": [
    {
     "name": "stdout",
     "output_type": "stream",
     "text": [
      "      Iter       Train Loss   Remaining Time \n",
      "         1           1.8587          418.63m\n",
      "         2           1.6389          316.90m\n",
      "         3           1.4789          279.56m\n",
      "         4           1.3581          258.71m\n",
      "         5           1.2669          262.45m\n",
      "         6           1.1872          266.03m\n",
      "         7           1.1195          269.85m\n",
      "         8           1.0596          271.97m\n",
      "         9           1.0092          257.20m\n",
      "        10           0.9625          244.41m\n",
      "        11           0.9215          233.16m\n",
      "        12           0.8850          223.01m\n",
      "        13           0.8513          213.74m\n",
      "        14           0.8197          205.09m\n",
      "        15           0.7905          197.02m\n",
      "        16           0.7629          189.33m\n",
      "        17           0.7394          182.08m\n",
      "        18           0.7157          175.21m\n",
      "        19           0.6952          175.04m\n",
      "        20           0.6762          174.03m\n",
      "        21           0.6562          172.22m\n",
      "        22           0.6403          169.92m\n",
      "        23           0.6244          166.97m\n",
      "        24           0.6097          163.55m\n",
      "        25           0.5960          159.69m\n",
      "        26           0.5835          155.57m\n",
      "        27           0.5713          151.08m\n",
      "        28           0.5591          146.20m\n",
      "        29           0.5473          141.07m\n",
      "        30           0.5371          135.77m\n",
      "        31           0.5262          130.21m\n",
      "        32           0.5165          124.48m\n",
      "        33           0.5079          118.56m\n",
      "        34           0.4987          112.43m\n",
      "        35           0.4913          106.17m\n",
      "        36           0.4834           99.78m\n",
      "        37           0.4760           93.24m\n",
      "        38           0.4680           86.59m\n",
      "        39           0.4606           79.84m\n",
      "        40           0.4524           72.96m\n",
      "        41           0.4453           66.01m\n",
      "        42           0.4386           58.97m\n",
      "        43           0.4315           51.84m\n",
      "        44           0.4254           44.63m\n",
      "        45           0.4194           37.35m\n",
      "        46           0.4128           30.01m\n",
      "        47           0.4076           22.60m\n",
      "        48           0.4024           15.10m\n",
      "        49           0.3973            7.57m\n",
      "        50           0.3922            0.00s\n"
     ]
    }
   ],
   "source": [
    "gbm_model=GradientBoostingClassifier(n_estimators=50, verbose=2).fit(X_train,y_train)"
   ]
  },
  {
   "cell_type": "code",
   "execution_count": 13,
   "id": "3e39eebf-b430-4fbe-9083-e45237124a17",
   "metadata": {
    "tags": []
   },
   "outputs": [
    {
     "data": {
      "text/plain": [
       "0.8921663442940039"
      ]
     },
     "execution_count": 13,
     "metadata": {},
     "output_type": "execute_result"
    }
   ],
   "source": [
    "y_pred = gbm_model.predict(X_test)\n",
    "acc_GBM = accuracy_score(y_test, y_pred)\n",
    "acc_GBM"
   ]
  },
  {
   "cell_type": "code",
   "execution_count": 35,
   "id": "af87bdf0-bb76-407e-9c29-fc97cd83db44",
   "metadata": {},
   "outputs": [
    {
     "data": {
      "text/plain": [
       "['acc_GBM.pkl']"
      ]
     },
     "execution_count": 35,
     "metadata": {},
     "output_type": "execute_result"
    }
   ],
   "source": [
    "joblib.dump(acc_GBM, 'acc_GBM.pkl')"
   ]
  },
  {
   "cell_type": "markdown",
   "id": "60c6e4eb-870d-4e40-a79c-24eaa25e804f",
   "metadata": {
    "tags": []
   },
   "source": [
    "### CatBoost"
   ]
  },
  {
   "cell_type": "code",
   "execution_count": 11,
   "id": "1404de80-4050-449c-b597-33efa8589b59",
   "metadata": {
    "collapsed": true,
    "jupyter": {
     "outputs_hidden": true
    },
    "tags": []
   },
   "outputs": [
    {
     "name": "stdout",
     "output_type": "stream",
     "text": [
      "Learning rate set to 0.088128\n",
      "0:\tlearn: 2.5914305\ttotal: 1.67s\tremaining: 27m 49s\n",
      "2:\tlearn: 2.3714541\ttotal: 4.8s\tremaining: 26m 34s\n",
      "4:\tlearn: 2.2375281\ttotal: 8.27s\tremaining: 27m 25s\n",
      "6:\tlearn: 2.1149660\ttotal: 11.5s\tremaining: 27m 7s\n",
      "8:\tlearn: 2.0234359\ttotal: 14.1s\tremaining: 25m 51s\n",
      "10:\tlearn: 1.9275418\ttotal: 16.9s\tremaining: 25m 18s\n",
      "12:\tlearn: 1.8472930\ttotal: 19.7s\tremaining: 24m 56s\n",
      "14:\tlearn: 1.7839164\ttotal: 22.7s\tremaining: 24m 47s\n",
      "16:\tlearn: 1.7270481\ttotal: 25.4s\tremaining: 24m 29s\n",
      "18:\tlearn: 1.6783712\ttotal: 28.1s\tremaining: 24m 10s\n",
      "20:\tlearn: 1.6379164\ttotal: 31.2s\tremaining: 24m 16s\n",
      "22:\tlearn: 1.6037995\ttotal: 34.3s\tremaining: 24m 16s\n",
      "24:\tlearn: 1.5646459\ttotal: 37.7s\tremaining: 24m 31s\n",
      "26:\tlearn: 1.5357359\ttotal: 40.9s\tremaining: 24m 32s\n",
      "28:\tlearn: 1.5024119\ttotal: 44.2s\tremaining: 24m 40s\n",
      "30:\tlearn: 1.4733209\ttotal: 47.3s\tremaining: 24m 37s\n",
      "32:\tlearn: 1.4469350\ttotal: 50s\tremaining: 24m 25s\n",
      "34:\tlearn: 1.4262184\ttotal: 52.9s\tremaining: 24m 19s\n",
      "36:\tlearn: 1.4045703\ttotal: 55.8s\tremaining: 24m 12s\n",
      "38:\tlearn: 1.3784057\ttotal: 58.4s\tremaining: 23m 58s\n",
      "40:\tlearn: 1.3554469\ttotal: 1m 1s\tremaining: 23m 50s\n",
      "42:\tlearn: 1.3359457\ttotal: 1m 3s\tremaining: 23m 44s\n",
      "44:\tlearn: 1.3199974\ttotal: 1m 6s\tremaining: 23m 39s\n",
      "46:\tlearn: 1.3009168\ttotal: 1m 9s\tremaining: 23m 33s\n",
      "48:\tlearn: 1.2854557\ttotal: 1m 12s\tremaining: 23m 24s\n",
      "50:\tlearn: 1.2697843\ttotal: 1m 15s\tremaining: 23m 18s\n",
      "52:\tlearn: 1.2531824\ttotal: 1m 17s\tremaining: 23m 10s\n",
      "54:\tlearn: 1.2418027\ttotal: 1m 20s\tremaining: 23m 1s\n",
      "56:\tlearn: 1.2233611\ttotal: 1m 22s\tremaining: 22m 49s\n",
      "58:\tlearn: 1.2116171\ttotal: 1m 25s\tremaining: 22m 37s\n",
      "60:\tlearn: 1.1987719\ttotal: 1m 27s\tremaining: 22m 22s\n",
      "62:\tlearn: 1.1887392\ttotal: 1m 29s\tremaining: 22m 10s\n",
      "64:\tlearn: 1.1783858\ttotal: 1m 31s\tremaining: 21m 56s\n",
      "66:\tlearn: 1.1670443\ttotal: 1m 33s\tremaining: 21m 45s\n",
      "68:\tlearn: 1.1543234\ttotal: 1m 35s\tremaining: 21m 32s\n",
      "70:\tlearn: 1.1458321\ttotal: 1m 37s\tremaining: 21m 20s\n",
      "72:\tlearn: 1.1359198\ttotal: 1m 39s\tremaining: 21m 7s\n",
      "74:\tlearn: 1.1279602\ttotal: 1m 41s\tremaining: 20m 57s\n",
      "76:\tlearn: 1.1186572\ttotal: 1m 44s\tremaining: 20m 46s\n",
      "78:\tlearn: 1.1043748\ttotal: 1m 46s\tremaining: 20m 37s\n",
      "80:\tlearn: 1.0919923\ttotal: 1m 48s\tremaining: 20m 25s\n",
      "82:\tlearn: 1.0812682\ttotal: 1m 50s\tremaining: 20m 17s\n",
      "84:\tlearn: 1.0729934\ttotal: 1m 52s\tremaining: 20m 9s\n",
      "86:\tlearn: 1.0590520\ttotal: 1m 54s\tremaining: 20m\n",
      "88:\tlearn: 1.0513788\ttotal: 1m 56s\tremaining: 19m 55s\n",
      "90:\tlearn: 1.0424445\ttotal: 1m 59s\tremaining: 19m 53s\n",
      "92:\tlearn: 1.0334903\ttotal: 2m 1s\tremaining: 19m 48s\n",
      "94:\tlearn: 1.0263586\ttotal: 2m 4s\tremaining: 19m 44s\n",
      "96:\tlearn: 1.0180558\ttotal: 2m 6s\tremaining: 19m 39s\n",
      "98:\tlearn: 1.0119037\ttotal: 2m 9s\tremaining: 19m 38s\n",
      "100:\tlearn: 1.0044365\ttotal: 2m 12s\tremaining: 19m 37s\n",
      "102:\tlearn: 0.9920817\ttotal: 2m 15s\tremaining: 19m 37s\n",
      "104:\tlearn: 0.9849667\ttotal: 2m 18s\tremaining: 19m 39s\n",
      "106:\tlearn: 0.9771301\ttotal: 2m 21s\tremaining: 19m 37s\n",
      "108:\tlearn: 0.9683690\ttotal: 2m 24s\tremaining: 19m 39s\n",
      "110:\tlearn: 0.9585805\ttotal: 2m 27s\tremaining: 19m 44s\n",
      "112:\tlearn: 0.9527434\ttotal: 2m 30s\tremaining: 19m 45s\n",
      "114:\tlearn: 0.9480553\ttotal: 2m 33s\tremaining: 19m 44s\n",
      "116:\tlearn: 0.9417899\ttotal: 2m 37s\tremaining: 19m 46s\n",
      "118:\tlearn: 0.9358328\ttotal: 2m 40s\tremaining: 19m 48s\n",
      "120:\tlearn: 0.9304497\ttotal: 2m 43s\tremaining: 19m 50s\n",
      "122:\tlearn: 0.9188510\ttotal: 2m 46s\tremaining: 19m 50s\n",
      "124:\tlearn: 0.9119460\ttotal: 2m 50s\tremaining: 19m 50s\n",
      "126:\tlearn: 0.9056526\ttotal: 2m 53s\tremaining: 19m 49s\n",
      "128:\tlearn: 0.8994927\ttotal: 2m 55s\tremaining: 19m 44s\n",
      "130:\tlearn: 0.8932949\ttotal: 2m 57s\tremaining: 19m 37s\n",
      "132:\tlearn: 0.8874799\ttotal: 2m 59s\tremaining: 19m 30s\n",
      "134:\tlearn: 0.8825956\ttotal: 3m 1s\tremaining: 19m 24s\n",
      "136:\tlearn: 0.8771081\ttotal: 3m 3s\tremaining: 19m 18s\n",
      "138:\tlearn: 0.8727078\ttotal: 3m 6s\tremaining: 19m 13s\n",
      "140:\tlearn: 0.8675070\ttotal: 3m 8s\tremaining: 19m 7s\n",
      "142:\tlearn: 0.8640144\ttotal: 3m 10s\tremaining: 19m 2s\n",
      "144:\tlearn: 0.8597805\ttotal: 3m 12s\tremaining: 18m 57s\n",
      "146:\tlearn: 0.8546297\ttotal: 3m 14s\tremaining: 18m 51s\n",
      "148:\tlearn: 0.8504733\ttotal: 3m 17s\tremaining: 18m 46s\n",
      "150:\tlearn: 0.8460180\ttotal: 3m 19s\tremaining: 18m 40s\n",
      "152:\tlearn: 0.8430202\ttotal: 3m 21s\tremaining: 18m 35s\n",
      "154:\tlearn: 0.8364302\ttotal: 3m 23s\tremaining: 18m 29s\n",
      "156:\tlearn: 0.8329511\ttotal: 3m 25s\tremaining: 18m 25s\n",
      "158:\tlearn: 0.8299894\ttotal: 3m 28s\tremaining: 18m 20s\n",
      "160:\tlearn: 0.8248149\ttotal: 3m 30s\tremaining: 18m 17s\n",
      "162:\tlearn: 0.8214219\ttotal: 3m 32s\tremaining: 18m 12s\n",
      "164:\tlearn: 0.8184191\ttotal: 3m 35s\tremaining: 18m 9s\n",
      "166:\tlearn: 0.8152619\ttotal: 3m 37s\tremaining: 18m 5s\n",
      "168:\tlearn: 0.8117465\ttotal: 3m 39s\tremaining: 18m 1s\n",
      "170:\tlearn: 0.8087805\ttotal: 3m 42s\tremaining: 17m 57s\n",
      "172:\tlearn: 0.8055097\ttotal: 3m 44s\tremaining: 17m 54s\n",
      "174:\tlearn: 0.8026500\ttotal: 3m 47s\tremaining: 17m 50s\n",
      "176:\tlearn: 0.7989567\ttotal: 3m 49s\tremaining: 17m 45s\n",
      "178:\tlearn: 0.7952731\ttotal: 3m 51s\tremaining: 17m 40s\n",
      "180:\tlearn: 0.7927608\ttotal: 3m 53s\tremaining: 17m 34s\n",
      "182:\tlearn: 0.7898700\ttotal: 3m 55s\tremaining: 17m 31s\n",
      "184:\tlearn: 0.7881811\ttotal: 3m 57s\tremaining: 17m 26s\n",
      "186:\tlearn: 0.7845852\ttotal: 3m 59s\tremaining: 17m 22s\n",
      "188:\tlearn: 0.7830606\ttotal: 4m 2s\tremaining: 17m 20s\n",
      "190:\tlearn: 0.7788831\ttotal: 4m 4s\tremaining: 17m 15s\n",
      "192:\tlearn: 0.7769905\ttotal: 4m 6s\tremaining: 17m 12s\n",
      "194:\tlearn: 0.7751227\ttotal: 4m 9s\tremaining: 17m 8s\n",
      "196:\tlearn: 0.7719842\ttotal: 4m 11s\tremaining: 17m 4s\n",
      "198:\tlearn: 0.7704291\ttotal: 4m 13s\tremaining: 17m\n",
      "200:\tlearn: 0.7684374\ttotal: 4m 15s\tremaining: 16m 56s\n",
      "202:\tlearn: 0.7661353\ttotal: 4m 18s\tremaining: 16m 53s\n",
      "204:\tlearn: 0.7630779\ttotal: 4m 20s\tremaining: 16m 49s\n",
      "206:\tlearn: 0.7608522\ttotal: 4m 22s\tremaining: 16m 44s\n",
      "208:\tlearn: 0.7588828\ttotal: 4m 24s\tremaining: 16m 40s\n",
      "210:\tlearn: 0.7559262\ttotal: 4m 26s\tremaining: 16m 36s\n",
      "212:\tlearn: 0.7539581\ttotal: 4m 28s\tremaining: 16m 32s\n",
      "214:\tlearn: 0.7513073\ttotal: 4m 31s\tremaining: 16m 29s\n",
      "216:\tlearn: 0.7494319\ttotal: 4m 33s\tremaining: 16m 25s\n",
      "218:\tlearn: 0.7466863\ttotal: 4m 35s\tremaining: 16m 22s\n",
      "220:\tlearn: 0.7440945\ttotal: 4m 37s\tremaining: 16m 17s\n",
      "222:\tlearn: 0.7421218\ttotal: 4m 39s\tremaining: 16m 13s\n",
      "224:\tlearn: 0.7409813\ttotal: 4m 41s\tremaining: 16m 9s\n",
      "226:\tlearn: 0.7396734\ttotal: 4m 43s\tremaining: 16m 4s\n",
      "228:\tlearn: 0.7370138\ttotal: 4m 45s\tremaining: 16m\n",
      "230:\tlearn: 0.7354314\ttotal: 4m 47s\tremaining: 15m 58s\n",
      "232:\tlearn: 0.7331793\ttotal: 4m 50s\tremaining: 15m 55s\n",
      "234:\tlearn: 0.7318608\ttotal: 4m 53s\tremaining: 15m 54s\n",
      "236:\tlearn: 0.7296002\ttotal: 4m 55s\tremaining: 15m 50s\n",
      "238:\tlearn: 0.7281452\ttotal: 4m 57s\tremaining: 15m 47s\n",
      "240:\tlearn: 0.7257608\ttotal: 4m 59s\tremaining: 15m 43s\n",
      "242:\tlearn: 0.7240610\ttotal: 5m 1s\tremaining: 15m 40s\n",
      "244:\tlearn: 0.7233856\ttotal: 5m 4s\tremaining: 15m 37s\n",
      "246:\tlearn: 0.7224667\ttotal: 5m 6s\tremaining: 15m 34s\n",
      "248:\tlearn: 0.7211683\ttotal: 5m 8s\tremaining: 15m 31s\n",
      "250:\tlearn: 0.7190248\ttotal: 5m 10s\tremaining: 15m 27s\n",
      "252:\tlearn: 0.7170631\ttotal: 5m 12s\tremaining: 15m 24s\n",
      "254:\tlearn: 0.7153032\ttotal: 5m 15s\tremaining: 15m 20s\n",
      "256:\tlearn: 0.7136502\ttotal: 5m 17s\tremaining: 15m 16s\n",
      "258:\tlearn: 0.7130079\ttotal: 5m 19s\tremaining: 15m 13s\n",
      "260:\tlearn: 0.7114307\ttotal: 5m 21s\tremaining: 15m 9s\n",
      "262:\tlearn: 0.7082147\ttotal: 5m 23s\tremaining: 15m 6s\n",
      "264:\tlearn: 0.7069872\ttotal: 5m 25s\tremaining: 15m 2s\n",
      "266:\tlearn: 0.7057145\ttotal: 5m 27s\tremaining: 14m 58s\n",
      "268:\tlearn: 0.7032701\ttotal: 5m 29s\tremaining: 14m 55s\n",
      "270:\tlearn: 0.7023618\ttotal: 5m 31s\tremaining: 14m 52s\n",
      "272:\tlearn: 0.7017625\ttotal: 5m 34s\tremaining: 14m 50s\n",
      "274:\tlearn: 0.7006985\ttotal: 5m 36s\tremaining: 14m 46s\n",
      "276:\tlearn: 0.6986019\ttotal: 5m 38s\tremaining: 14m 43s\n",
      "278:\tlearn: 0.6980314\ttotal: 5m 40s\tremaining: 14m 41s\n",
      "280:\tlearn: 0.6970857\ttotal: 5m 43s\tremaining: 14m 37s\n",
      "282:\tlearn: 0.6964347\ttotal: 5m 45s\tremaining: 14m 34s\n",
      "284:\tlearn: 0.6949894\ttotal: 5m 47s\tremaining: 14m 30s\n",
      "286:\tlearn: 0.6935263\ttotal: 5m 49s\tremaining: 14m 27s\n",
      "288:\tlearn: 0.6920832\ttotal: 5m 50s\tremaining: 14m 23s\n",
      "290:\tlearn: 0.6911993\ttotal: 5m 52s\tremaining: 14m 19s\n",
      "292:\tlearn: 0.6899289\ttotal: 5m 54s\tremaining: 14m 15s\n",
      "294:\tlearn: 0.6889603\ttotal: 5m 56s\tremaining: 14m 11s\n",
      "296:\tlearn: 0.6872788\ttotal: 5m 58s\tremaining: 14m 7s\n",
      "298:\tlearn: 0.6857477\ttotal: 5m 59s\tremaining: 14m 3s\n",
      "300:\tlearn: 0.6845151\ttotal: 6m 1s\tremaining: 13m 59s\n",
      "302:\tlearn: 0.6831159\ttotal: 6m 3s\tremaining: 13m 56s\n",
      "304:\tlearn: 0.6824154\ttotal: 6m 5s\tremaining: 13m 52s\n",
      "306:\tlearn: 0.6817699\ttotal: 6m 6s\tremaining: 13m 48s\n",
      "308:\tlearn: 0.6812901\ttotal: 6m 8s\tremaining: 13m 44s\n",
      "310:\tlearn: 0.6805578\ttotal: 6m 10s\tremaining: 13m 40s\n",
      "312:\tlearn: 0.6800275\ttotal: 6m 12s\tremaining: 13m 37s\n",
      "314:\tlearn: 0.6787445\ttotal: 6m 14s\tremaining: 13m 33s\n",
      "316:\tlearn: 0.6768977\ttotal: 6m 16s\tremaining: 13m 30s\n",
      "318:\tlearn: 0.6759997\ttotal: 6m 18s\tremaining: 13m 27s\n",
      "320:\tlearn: 0.6750929\ttotal: 6m 20s\tremaining: 13m 23s\n",
      "322:\tlearn: 0.6744346\ttotal: 6m 22s\tremaining: 13m 20s\n",
      "324:\tlearn: 0.6709307\ttotal: 6m 24s\tremaining: 13m 17s\n",
      "326:\tlearn: 0.6705582\ttotal: 6m 26s\tremaining: 13m 14s\n",
      "328:\tlearn: 0.6690254\ttotal: 6m 28s\tremaining: 13m 11s\n",
      "330:\tlearn: 0.6671709\ttotal: 6m 30s\tremaining: 13m 8s\n",
      "332:\tlearn: 0.6659238\ttotal: 6m 32s\tremaining: 13m 5s\n",
      "334:\tlearn: 0.6654436\ttotal: 6m 34s\tremaining: 13m 2s\n",
      "336:\tlearn: 0.6646110\ttotal: 6m 36s\tremaining: 13m\n",
      "338:\tlearn: 0.6641950\ttotal: 6m 38s\tremaining: 12m 57s\n",
      "340:\tlearn: 0.6635403\ttotal: 6m 40s\tremaining: 12m 54s\n",
      "342:\tlearn: 0.6628133\ttotal: 6m 42s\tremaining: 12m 51s\n",
      "344:\tlearn: 0.6617542\ttotal: 6m 45s\tremaining: 12m 48s\n",
      "346:\tlearn: 0.6610305\ttotal: 6m 47s\tremaining: 12m 46s\n",
      "348:\tlearn: 0.6602252\ttotal: 6m 49s\tremaining: 12m 44s\n",
      "350:\tlearn: 0.6593107\ttotal: 6m 51s\tremaining: 12m 41s\n",
      "352:\tlearn: 0.6585949\ttotal: 6m 54s\tremaining: 12m 38s\n",
      "354:\tlearn: 0.6563111\ttotal: 6m 56s\tremaining: 12m 36s\n",
      "356:\tlearn: 0.6558671\ttotal: 6m 58s\tremaining: 12m 33s\n",
      "358:\tlearn: 0.6549165\ttotal: 7m\tremaining: 12m 31s\n",
      "360:\tlearn: 0.6542044\ttotal: 7m 2s\tremaining: 12m 28s\n",
      "362:\tlearn: 0.6532212\ttotal: 7m 5s\tremaining: 12m 26s\n",
      "364:\tlearn: 0.6524461\ttotal: 7m 7s\tremaining: 12m 24s\n",
      "366:\tlearn: 0.6517088\ttotal: 7m 10s\tremaining: 12m 22s\n",
      "368:\tlearn: 0.6514119\ttotal: 7m 12s\tremaining: 12m 20s\n",
      "370:\tlearn: 0.6503650\ttotal: 7m 15s\tremaining: 12m 17s\n",
      "372:\tlearn: 0.6498000\ttotal: 7m 18s\tremaining: 12m 16s\n",
      "374:\tlearn: 0.6492231\ttotal: 7m 21s\tremaining: 12m 15s\n",
      "376:\tlearn: 0.6484400\ttotal: 7m 23s\tremaining: 12m 13s\n",
      "378:\tlearn: 0.6465002\ttotal: 7m 26s\tremaining: 12m 11s\n",
      "380:\tlearn: 0.6456619\ttotal: 7m 28s\tremaining: 12m 9s\n",
      "382:\tlearn: 0.6450917\ttotal: 7m 31s\tremaining: 12m 7s\n",
      "384:\tlearn: 0.6441408\ttotal: 7m 33s\tremaining: 12m 5s\n",
      "386:\tlearn: 0.6434668\ttotal: 7m 36s\tremaining: 12m 2s\n",
      "388:\tlearn: 0.6415491\ttotal: 7m 38s\tremaining: 12m\n",
      "390:\tlearn: 0.6407533\ttotal: 7m 41s\tremaining: 11m 58s\n",
      "392:\tlearn: 0.6401789\ttotal: 7m 43s\tremaining: 11m 55s\n",
      "394:\tlearn: 0.6395656\ttotal: 7m 45s\tremaining: 11m 53s\n",
      "396:\tlearn: 0.6388070\ttotal: 7m 47s\tremaining: 11m 50s\n",
      "398:\tlearn: 0.6383421\ttotal: 7m 50s\tremaining: 11m 48s\n",
      "400:\tlearn: 0.6380757\ttotal: 7m 52s\tremaining: 11m 45s\n",
      "402:\tlearn: 0.6374747\ttotal: 7m 54s\tremaining: 11m 42s\n",
      "404:\tlearn: 0.6365102\ttotal: 7m 56s\tremaining: 11m 39s\n",
      "406:\tlearn: 0.6359476\ttotal: 7m 57s\tremaining: 11m 36s\n",
      "408:\tlearn: 0.6356600\ttotal: 7m 59s\tremaining: 11m 33s\n",
      "410:\tlearn: 0.6352516\ttotal: 8m 1s\tremaining: 11m 30s\n",
      "412:\tlearn: 0.6346568\ttotal: 8m 3s\tremaining: 11m 26s\n",
      "414:\tlearn: 0.6341336\ttotal: 8m 4s\tremaining: 11m 23s\n",
      "416:\tlearn: 0.6335960\ttotal: 8m 6s\tremaining: 11m 20s\n",
      "418:\tlearn: 0.6333565\ttotal: 8m 8s\tremaining: 11m 17s\n",
      "420:\tlearn: 0.6329928\ttotal: 8m 10s\tremaining: 11m 14s\n",
      "422:\tlearn: 0.6321426\ttotal: 8m 13s\tremaining: 11m 12s\n",
      "424:\tlearn: 0.6316787\ttotal: 8m 15s\tremaining: 11m 10s\n",
      "426:\tlearn: 0.6312882\ttotal: 8m 18s\tremaining: 11m 8s\n",
      "428:\tlearn: 0.6306181\ttotal: 8m 20s\tremaining: 11m 5s\n",
      "430:\tlearn: 0.6300556\ttotal: 8m 22s\tremaining: 11m 2s\n",
      "432:\tlearn: 0.6293220\ttotal: 8m 24s\tremaining: 11m\n",
      "434:\tlearn: 0.6286675\ttotal: 8m 26s\tremaining: 10m 57s\n",
      "436:\tlearn: 0.6283792\ttotal: 8m 28s\tremaining: 10m 54s\n",
      "438:\tlearn: 0.6279459\ttotal: 8m 30s\tremaining: 10m 52s\n",
      "440:\tlearn: 0.6276035\ttotal: 8m 32s\tremaining: 10m 49s\n",
      "442:\tlearn: 0.6264211\ttotal: 8m 34s\tremaining: 10m 46s\n",
      "444:\tlearn: 0.6260243\ttotal: 8m 36s\tremaining: 10m 44s\n",
      "446:\tlearn: 0.6257278\ttotal: 8m 38s\tremaining: 10m 42s\n",
      "448:\tlearn: 0.6252567\ttotal: 8m 41s\tremaining: 10m 39s\n",
      "450:\tlearn: 0.6247907\ttotal: 8m 43s\tremaining: 10m 37s\n",
      "452:\tlearn: 0.6245331\ttotal: 8m 45s\tremaining: 10m 34s\n",
      "454:\tlearn: 0.6240810\ttotal: 8m 48s\tremaining: 10m 32s\n",
      "456:\tlearn: 0.6232394\ttotal: 8m 50s\tremaining: 10m 29s\n",
      "458:\tlearn: 0.6221356\ttotal: 8m 52s\tremaining: 10m 28s\n",
      "460:\tlearn: 0.6218046\ttotal: 8m 55s\tremaining: 10m 25s\n",
      "462:\tlearn: 0.6204607\ttotal: 8m 57s\tremaining: 10m 23s\n",
      "464:\tlearn: 0.6201676\ttotal: 8m 59s\tremaining: 10m 20s\n",
      "466:\tlearn: 0.6198369\ttotal: 9m 2s\tremaining: 10m 18s\n",
      "468:\tlearn: 0.6191351\ttotal: 9m 4s\tremaining: 10m 16s\n",
      "470:\tlearn: 0.6187238\ttotal: 9m 7s\tremaining: 10m 14s\n",
      "472:\tlearn: 0.6173566\ttotal: 9m 9s\tremaining: 10m 12s\n",
      "474:\tlearn: 0.6166295\ttotal: 9m 11s\tremaining: 10m 9s\n",
      "476:\tlearn: 0.6163635\ttotal: 9m 13s\tremaining: 10m 7s\n",
      "478:\tlearn: 0.6155230\ttotal: 9m 15s\tremaining: 10m 4s\n",
      "480:\tlearn: 0.6153038\ttotal: 9m 18s\tremaining: 10m 2s\n",
      "482:\tlearn: 0.6141559\ttotal: 9m 20s\tremaining: 10m\n",
      "484:\tlearn: 0.6134675\ttotal: 9m 22s\tremaining: 9m 57s\n",
      "486:\tlearn: 0.6131568\ttotal: 9m 25s\tremaining: 9m 55s\n",
      "488:\tlearn: 0.6126344\ttotal: 9m 27s\tremaining: 9m 52s\n",
      "490:\tlearn: 0.6123086\ttotal: 9m 29s\tremaining: 9m 50s\n",
      "492:\tlearn: 0.6117826\ttotal: 9m 31s\tremaining: 9m 47s\n",
      "494:\tlearn: 0.6112564\ttotal: 9m 33s\tremaining: 9m 45s\n",
      "496:\tlearn: 0.6109856\ttotal: 9m 36s\tremaining: 9m 43s\n",
      "498:\tlearn: 0.6106512\ttotal: 9m 38s\tremaining: 9m 40s\n",
      "500:\tlearn: 0.6101570\ttotal: 9m 40s\tremaining: 9m 38s\n",
      "502:\tlearn: 0.6096591\ttotal: 9m 43s\tremaining: 9m 36s\n",
      "504:\tlearn: 0.6093593\ttotal: 9m 45s\tremaining: 9m 33s\n",
      "506:\tlearn: 0.6089450\ttotal: 9m 47s\tremaining: 9m 31s\n",
      "508:\tlearn: 0.6084970\ttotal: 9m 49s\tremaining: 9m 28s\n",
      "510:\tlearn: 0.6082050\ttotal: 9m 51s\tremaining: 9m 25s\n",
      "512:\tlearn: 0.6076545\ttotal: 9m 53s\tremaining: 9m 23s\n",
      "514:\tlearn: 0.6073566\ttotal: 9m 54s\tremaining: 9m 20s\n",
      "516:\tlearn: 0.6071025\ttotal: 9m 57s\tremaining: 9m 17s\n",
      "518:\tlearn: 0.6067630\ttotal: 9m 59s\tremaining: 9m 15s\n",
      "520:\tlearn: 0.6059130\ttotal: 10m 1s\tremaining: 9m 12s\n",
      "522:\tlearn: 0.6056825\ttotal: 10m 3s\tremaining: 9m 10s\n",
      "524:\tlearn: 0.6045778\ttotal: 10m 5s\tremaining: 9m 7s\n",
      "526:\tlearn: 0.6042157\ttotal: 10m 7s\tremaining: 9m 4s\n",
      "528:\tlearn: 0.6036726\ttotal: 10m 9s\tremaining: 9m 2s\n",
      "530:\tlearn: 0.6033000\ttotal: 10m 11s\tremaining: 8m 59s\n",
      "532:\tlearn: 0.6028465\ttotal: 10m 13s\tremaining: 8m 57s\n",
      "534:\tlearn: 0.6025703\ttotal: 10m 15s\tremaining: 8m 54s\n",
      "536:\tlearn: 0.6020048\ttotal: 10m 18s\tremaining: 8m 53s\n",
      "538:\tlearn: 0.6017797\ttotal: 10m 22s\tremaining: 8m 52s\n",
      "540:\tlearn: 0.6014469\ttotal: 10m 26s\tremaining: 8m 51s\n",
      "542:\tlearn: 0.6004106\ttotal: 10m 31s\tremaining: 8m 51s\n",
      "544:\tlearn: 0.6000044\ttotal: 10m 35s\tremaining: 8m 50s\n",
      "546:\tlearn: 0.5996125\ttotal: 10m 38s\tremaining: 8m 48s\n",
      "548:\tlearn: 0.5992538\ttotal: 10m 42s\tremaining: 8m 47s\n",
      "550:\tlearn: 0.5980892\ttotal: 10m 44s\tremaining: 8m 45s\n",
      "552:\tlearn: 0.5977818\ttotal: 10m 47s\tremaining: 8m 43s\n",
      "554:\tlearn: 0.5961554\ttotal: 10m 49s\tremaining: 8m 40s\n",
      "556:\tlearn: 0.5951372\ttotal: 10m 51s\tremaining: 8m 38s\n",
      "558:\tlearn: 0.5949792\ttotal: 10m 53s\tremaining: 8m 35s\n",
      "560:\tlearn: 0.5946621\ttotal: 10m 54s\tremaining: 8m 32s\n",
      "562:\tlearn: 0.5943325\ttotal: 10m 57s\tremaining: 8m 30s\n",
      "564:\tlearn: 0.5935785\ttotal: 10m 59s\tremaining: 8m 27s\n",
      "566:\tlearn: 0.5932843\ttotal: 11m 1s\tremaining: 8m 24s\n",
      "568:\tlearn: 0.5930684\ttotal: 11m 3s\tremaining: 8m 22s\n",
      "570:\tlearn: 0.5929475\ttotal: 11m 4s\tremaining: 8m 19s\n",
      "572:\tlearn: 0.5927012\ttotal: 11m 6s\tremaining: 8m 16s\n",
      "574:\tlearn: 0.5925970\ttotal: 11m 8s\tremaining: 8m 14s\n",
      "576:\tlearn: 0.5921003\ttotal: 11m 10s\tremaining: 8m 11s\n",
      "578:\tlearn: 0.5917164\ttotal: 11m 12s\tremaining: 8m 9s\n",
      "580:\tlearn: 0.5914649\ttotal: 11m 14s\tremaining: 8m 6s\n",
      "582:\tlearn: 0.5909725\ttotal: 11m 17s\tremaining: 8m 4s\n",
      "584:\tlearn: 0.5908243\ttotal: 11m 19s\tremaining: 8m 2s\n",
      "586:\tlearn: 0.5907136\ttotal: 11m 22s\tremaining: 8m\n",
      "588:\tlearn: 0.5903219\ttotal: 11m 27s\tremaining: 7m 59s\n",
      "590:\tlearn: 0.5891890\ttotal: 11m 30s\tremaining: 7m 58s\n",
      "592:\tlearn: 0.5890041\ttotal: 11m 33s\tremaining: 7m 55s\n",
      "594:\tlearn: 0.5887550\ttotal: 11m 36s\tremaining: 7m 54s\n",
      "596:\tlearn: 0.5877949\ttotal: 11m 39s\tremaining: 7m 51s\n",
      "598:\tlearn: 0.5873527\ttotal: 11m 41s\tremaining: 7m 49s\n",
      "600:\tlearn: 0.5871306\ttotal: 11m 43s\tremaining: 7m 47s\n",
      "602:\tlearn: 0.5868725\ttotal: 11m 46s\tremaining: 7m 44s\n",
      "604:\tlearn: 0.5858915\ttotal: 11m 48s\tremaining: 7m 42s\n",
      "606:\tlearn: 0.5856493\ttotal: 11m 50s\tremaining: 7m 40s\n",
      "608:\tlearn: 0.5853910\ttotal: 11m 52s\tremaining: 7m 37s\n",
      "610:\tlearn: 0.5851791\ttotal: 11m 55s\tremaining: 7m 35s\n",
      "612:\tlearn: 0.5848380\ttotal: 11m 57s\tremaining: 7m 32s\n",
      "614:\tlearn: 0.5846820\ttotal: 11m 59s\tremaining: 7m 30s\n",
      "616:\tlearn: 0.5841037\ttotal: 12m 2s\tremaining: 7m 28s\n",
      "618:\tlearn: 0.5836633\ttotal: 12m 5s\tremaining: 7m 26s\n",
      "620:\tlearn: 0.5834510\ttotal: 12m 8s\tremaining: 7m 24s\n",
      "622:\tlearn: 0.5832072\ttotal: 12m 10s\tremaining: 7m 22s\n",
      "624:\tlearn: 0.5830206\ttotal: 12m 13s\tremaining: 7m 19s\n",
      "626:\tlearn: 0.5828547\ttotal: 12m 15s\tremaining: 7m 17s\n",
      "628:\tlearn: 0.5826456\ttotal: 12m 17s\tremaining: 7m 15s\n",
      "630:\tlearn: 0.5823876\ttotal: 12m 19s\tremaining: 7m 12s\n",
      "632:\tlearn: 0.5821601\ttotal: 12m 22s\tremaining: 7m 10s\n",
      "634:\tlearn: 0.5815352\ttotal: 12m 24s\tremaining: 7m 8s\n",
      "636:\tlearn: 0.5814056\ttotal: 12m 27s\tremaining: 7m 5s\n",
      "638:\tlearn: 0.5812604\ttotal: 12m 29s\tremaining: 7m 3s\n",
      "640:\tlearn: 0.5811151\ttotal: 12m 32s\tremaining: 7m 1s\n",
      "642:\tlearn: 0.5806687\ttotal: 12m 34s\tremaining: 6m 58s\n",
      "644:\tlearn: 0.5801064\ttotal: 12m 36s\tremaining: 6m 56s\n",
      "646:\tlearn: 0.5800218\ttotal: 12m 38s\tremaining: 6m 54s\n",
      "648:\tlearn: 0.5798436\ttotal: 12m 41s\tremaining: 6m 51s\n",
      "650:\tlearn: 0.5794836\ttotal: 12m 43s\tremaining: 6m 49s\n",
      "652:\tlearn: 0.5792923\ttotal: 12m 45s\tremaining: 6m 46s\n",
      "654:\tlearn: 0.5784985\ttotal: 12m 47s\tremaining: 6m 44s\n",
      "656:\tlearn: 0.5780546\ttotal: 12m 49s\tremaining: 6m 41s\n",
      "658:\tlearn: 0.5778112\ttotal: 12m 51s\tremaining: 6m 39s\n",
      "660:\tlearn: 0.5775983\ttotal: 12m 53s\tremaining: 6m 36s\n",
      "662:\tlearn: 0.5773552\ttotal: 12m 56s\tremaining: 6m 34s\n",
      "664:\tlearn: 0.5771624\ttotal: 12m 58s\tremaining: 6m 32s\n",
      "666:\tlearn: 0.5759675\ttotal: 13m\tremaining: 6m 29s\n",
      "668:\tlearn: 0.5757862\ttotal: 13m 2s\tremaining: 6m 27s\n",
      "670:\tlearn: 0.5753382\ttotal: 13m 4s\tremaining: 6m 24s\n",
      "672:\tlearn: 0.5751456\ttotal: 13m 7s\tremaining: 6m 22s\n",
      "674:\tlearn: 0.5749825\ttotal: 13m 9s\tremaining: 6m 20s\n",
      "676:\tlearn: 0.5743002\ttotal: 13m 12s\tremaining: 6m 17s\n",
      "678:\tlearn: 0.5741175\ttotal: 13m 14s\tremaining: 6m 15s\n",
      "680:\tlearn: 0.5738565\ttotal: 13m 16s\tremaining: 6m 13s\n",
      "682:\tlearn: 0.5736571\ttotal: 13m 18s\tremaining: 6m 10s\n",
      "684:\tlearn: 0.5734798\ttotal: 13m 21s\tremaining: 6m 8s\n",
      "686:\tlearn: 0.5732891\ttotal: 13m 23s\tremaining: 6m 6s\n",
      "688:\tlearn: 0.5729772\ttotal: 13m 25s\tremaining: 6m 3s\n",
      "690:\tlearn: 0.5728538\ttotal: 13m 27s\tremaining: 6m 1s\n",
      "692:\tlearn: 0.5726761\ttotal: 13m 30s\tremaining: 5m 58s\n",
      "694:\tlearn: 0.5725138\ttotal: 13m 32s\tremaining: 5m 56s\n",
      "696:\tlearn: 0.5723239\ttotal: 13m 34s\tremaining: 5m 54s\n",
      "698:\tlearn: 0.5718348\ttotal: 13m 37s\tremaining: 5m 52s\n",
      "700:\tlearn: 0.5714533\ttotal: 13m 40s\tremaining: 5m 50s\n",
      "702:\tlearn: 0.5708049\ttotal: 13m 44s\tremaining: 5m 48s\n",
      "704:\tlearn: 0.5705562\ttotal: 13m 47s\tremaining: 5m 46s\n",
      "706:\tlearn: 0.5695583\ttotal: 13m 50s\tremaining: 5m 44s\n",
      "708:\tlearn: 0.5693264\ttotal: 13m 53s\tremaining: 5m 42s\n",
      "710:\tlearn: 0.5689694\ttotal: 13m 56s\tremaining: 5m 39s\n",
      "712:\tlearn: 0.5686893\ttotal: 13m 58s\tremaining: 5m 37s\n",
      "714:\tlearn: 0.5684103\ttotal: 14m\tremaining: 5m 35s\n",
      "716:\tlearn: 0.5682507\ttotal: 14m 3s\tremaining: 5m 32s\n",
      "718:\tlearn: 0.5680366\ttotal: 14m 5s\tremaining: 5m 30s\n",
      "720:\tlearn: 0.5674603\ttotal: 14m 7s\tremaining: 5m 28s\n",
      "722:\tlearn: 0.5672410\ttotal: 14m 10s\tremaining: 5m 25s\n",
      "724:\tlearn: 0.5665745\ttotal: 14m 13s\tremaining: 5m 23s\n",
      "726:\tlearn: 0.5662976\ttotal: 14m 15s\tremaining: 5m 21s\n",
      "728:\tlearn: 0.5660373\ttotal: 14m 17s\tremaining: 5m 18s\n",
      "730:\tlearn: 0.5657981\ttotal: 14m 19s\tremaining: 5m 16s\n",
      "732:\tlearn: 0.5653818\ttotal: 14m 22s\tremaining: 5m 14s\n",
      "734:\tlearn: 0.5652276\ttotal: 14m 24s\tremaining: 5m 11s\n",
      "736:\tlearn: 0.5651114\ttotal: 14m 26s\tremaining: 5m 9s\n",
      "738:\tlearn: 0.5646439\ttotal: 14m 28s\tremaining: 5m 6s\n",
      "740:\tlearn: 0.5645044\ttotal: 14m 30s\tremaining: 5m 4s\n",
      "742:\tlearn: 0.5642712\ttotal: 14m 33s\tremaining: 5m 2s\n",
      "744:\tlearn: 0.5641612\ttotal: 14m 35s\tremaining: 4m 59s\n",
      "746:\tlearn: 0.5638091\ttotal: 14m 37s\tremaining: 4m 57s\n",
      "748:\tlearn: 0.5635118\ttotal: 14m 39s\tremaining: 4m 54s\n",
      "750:\tlearn: 0.5633548\ttotal: 14m 41s\tremaining: 4m 52s\n",
      "752:\tlearn: 0.5631799\ttotal: 14m 43s\tremaining: 4m 49s\n",
      "754:\tlearn: 0.5630663\ttotal: 14m 45s\tremaining: 4m 47s\n",
      "756:\tlearn: 0.5629370\ttotal: 14m 47s\tremaining: 4m 44s\n",
      "758:\tlearn: 0.5627742\ttotal: 14m 49s\tremaining: 4m 42s\n",
      "760:\tlearn: 0.5625744\ttotal: 14m 51s\tremaining: 4m 40s\n",
      "762:\tlearn: 0.5623570\ttotal: 14m 53s\tremaining: 4m 37s\n",
      "764:\tlearn: 0.5620165\ttotal: 14m 55s\tremaining: 4m 35s\n",
      "766:\tlearn: 0.5617998\ttotal: 14m 58s\tremaining: 4m 32s\n",
      "768:\tlearn: 0.5610532\ttotal: 15m\tremaining: 4m 30s\n",
      "770:\tlearn: 0.5607275\ttotal: 15m 2s\tremaining: 4m 28s\n",
      "772:\tlearn: 0.5605333\ttotal: 15m 4s\tremaining: 4m 25s\n",
      "774:\tlearn: 0.5603825\ttotal: 15m 6s\tremaining: 4m 23s\n",
      "776:\tlearn: 0.5600975\ttotal: 15m 9s\tremaining: 4m 20s\n",
      "778:\tlearn: 0.5598454\ttotal: 15m 11s\tremaining: 4m 18s\n",
      "780:\tlearn: 0.5595512\ttotal: 15m 13s\tremaining: 4m 16s\n",
      "782:\tlearn: 0.5594038\ttotal: 15m 15s\tremaining: 4m 13s\n",
      "784:\tlearn: 0.5592273\ttotal: 15m 17s\tremaining: 4m 11s\n",
      "786:\tlearn: 0.5590874\ttotal: 15m 20s\tremaining: 4m 8s\n",
      "788:\tlearn: 0.5589192\ttotal: 15m 22s\tremaining: 4m 6s\n",
      "790:\tlearn: 0.5584942\ttotal: 15m 24s\tremaining: 4m 4s\n",
      "792:\tlearn: 0.5583239\ttotal: 15m 27s\tremaining: 4m 2s\n",
      "794:\tlearn: 0.5581262\ttotal: 15m 29s\tremaining: 3m 59s\n",
      "796:\tlearn: 0.5578369\ttotal: 15m 31s\tremaining: 3m 57s\n",
      "798:\tlearn: 0.5574102\ttotal: 15m 33s\tremaining: 3m 54s\n",
      "800:\tlearn: 0.5572070\ttotal: 15m 36s\tremaining: 3m 52s\n",
      "802:\tlearn: 0.5570790\ttotal: 15m 38s\tremaining: 3m 50s\n",
      "804:\tlearn: 0.5569297\ttotal: 15m 40s\tremaining: 3m 47s\n",
      "806:\tlearn: 0.5567389\ttotal: 15m 42s\tremaining: 3m 45s\n",
      "808:\tlearn: 0.5566137\ttotal: 15m 45s\tremaining: 3m 43s\n",
      "810:\tlearn: 0.5563996\ttotal: 15m 47s\tremaining: 3m 40s\n",
      "812:\tlearn: 0.5559882\ttotal: 15m 49s\tremaining: 3m 38s\n",
      "814:\tlearn: 0.5558989\ttotal: 15m 51s\tremaining: 3m 36s\n",
      "816:\tlearn: 0.5557454\ttotal: 15m 54s\tremaining: 3m 33s\n",
      "818:\tlearn: 0.5555970\ttotal: 15m 56s\tremaining: 3m 31s\n",
      "820:\tlearn: 0.5551509\ttotal: 15m 58s\tremaining: 3m 29s\n",
      "822:\tlearn: 0.5549778\ttotal: 16m 1s\tremaining: 3m 26s\n",
      "824:\tlearn: 0.5548278\ttotal: 16m 3s\tremaining: 3m 24s\n",
      "826:\tlearn: 0.5546029\ttotal: 16m 6s\tremaining: 3m 22s\n",
      "828:\tlearn: 0.5544823\ttotal: 16m 8s\tremaining: 3m 19s\n",
      "830:\tlearn: 0.5543578\ttotal: 16m 10s\tremaining: 3m 17s\n",
      "832:\tlearn: 0.5542600\ttotal: 16m 12s\tremaining: 3m 15s\n",
      "834:\tlearn: 0.5535870\ttotal: 16m 14s\tremaining: 3m 12s\n",
      "836:\tlearn: 0.5529123\ttotal: 16m 17s\tremaining: 3m 10s\n",
      "838:\tlearn: 0.5523463\ttotal: 16m 19s\tremaining: 3m 7s\n",
      "840:\tlearn: 0.5522369\ttotal: 16m 21s\tremaining: 3m 5s\n",
      "842:\tlearn: 0.5518858\ttotal: 16m 23s\tremaining: 3m 3s\n",
      "844:\tlearn: 0.5517488\ttotal: 16m 25s\tremaining: 3m\n",
      "846:\tlearn: 0.5516050\ttotal: 16m 27s\tremaining: 2m 58s\n",
      "848:\tlearn: 0.5514800\ttotal: 16m 29s\tremaining: 2m 56s\n",
      "850:\tlearn: 0.5513772\ttotal: 16m 32s\tremaining: 2m 53s\n",
      "852:\tlearn: 0.5510891\ttotal: 16m 34s\tremaining: 2m 51s\n",
      "854:\tlearn: 0.5509563\ttotal: 16m 36s\tremaining: 2m 49s\n",
      "856:\tlearn: 0.5508495\ttotal: 16m 39s\tremaining: 2m 46s\n",
      "858:\tlearn: 0.5506142\ttotal: 16m 41s\tremaining: 2m 44s\n",
      "860:\tlearn: 0.5504934\ttotal: 16m 43s\tremaining: 2m 42s\n",
      "862:\tlearn: 0.5503771\ttotal: 16m 46s\tremaining: 2m 39s\n",
      "864:\tlearn: 0.5502469\ttotal: 16m 48s\tremaining: 2m 37s\n",
      "866:\tlearn: 0.5500930\ttotal: 16m 51s\tremaining: 2m 35s\n",
      "868:\tlearn: 0.5498257\ttotal: 16m 53s\tremaining: 2m 32s\n",
      "870:\tlearn: 0.5496450\ttotal: 16m 55s\tremaining: 2m 30s\n",
      "872:\tlearn: 0.5485343\ttotal: 16m 58s\tremaining: 2m 28s\n",
      "874:\tlearn: 0.5481035\ttotal: 17m\tremaining: 2m 25s\n",
      "876:\tlearn: 0.5479386\ttotal: 17m 2s\tremaining: 2m 23s\n",
      "878:\tlearn: 0.5478467\ttotal: 17m 4s\tremaining: 2m 21s\n",
      "880:\tlearn: 0.5477511\ttotal: 17m 7s\tremaining: 2m 18s\n",
      "882:\tlearn: 0.5474971\ttotal: 17m 9s\tremaining: 2m 16s\n",
      "884:\tlearn: 0.5473593\ttotal: 17m 12s\tremaining: 2m 14s\n",
      "886:\tlearn: 0.5472626\ttotal: 17m 14s\tremaining: 2m 11s\n",
      "888:\tlearn: 0.5471123\ttotal: 17m 16s\tremaining: 2m 9s\n",
      "890:\tlearn: 0.5469953\ttotal: 17m 18s\tremaining: 2m 7s\n",
      "892:\tlearn: 0.5466614\ttotal: 17m 20s\tremaining: 2m 4s\n",
      "894:\tlearn: 0.5461541\ttotal: 17m 23s\tremaining: 2m 2s\n",
      "896:\tlearn: 0.5457619\ttotal: 17m 25s\tremaining: 2m\n",
      "898:\tlearn: 0.5455977\ttotal: 17m 27s\tremaining: 1m 57s\n",
      "900:\tlearn: 0.5454141\ttotal: 17m 29s\tremaining: 1m 55s\n",
      "902:\tlearn: 0.5452339\ttotal: 17m 31s\tremaining: 1m 53s\n",
      "904:\tlearn: 0.5451125\ttotal: 17m 34s\tremaining: 1m 50s\n",
      "906:\tlearn: 0.5448319\ttotal: 17m 36s\tremaining: 1m 48s\n",
      "908:\tlearn: 0.5445965\ttotal: 17m 38s\tremaining: 1m 46s\n",
      "910:\tlearn: 0.5444559\ttotal: 17m 41s\tremaining: 1m 43s\n",
      "912:\tlearn: 0.5437758\ttotal: 17m 43s\tremaining: 1m 41s\n",
      "914:\tlearn: 0.5436937\ttotal: 17m 45s\tremaining: 1m 38s\n",
      "916:\tlearn: 0.5435235\ttotal: 17m 47s\tremaining: 1m 36s\n",
      "918:\tlearn: 0.5434655\ttotal: 17m 50s\tremaining: 1m 34s\n",
      "920:\tlearn: 0.5428502\ttotal: 17m 52s\tremaining: 1m 32s\n",
      "922:\tlearn: 0.5425713\ttotal: 17m 55s\tremaining: 1m 29s\n",
      "924:\tlearn: 0.5424460\ttotal: 17m 57s\tremaining: 1m 27s\n",
      "926:\tlearn: 0.5423324\ttotal: 17m 59s\tremaining: 1m 25s\n",
      "928:\tlearn: 0.5421898\ttotal: 18m 1s\tremaining: 1m 22s\n",
      "930:\tlearn: 0.5420182\ttotal: 18m 4s\tremaining: 1m 20s\n",
      "932:\tlearn: 0.5418956\ttotal: 18m 6s\tremaining: 1m 18s\n",
      "934:\tlearn: 0.5417707\ttotal: 18m 8s\tremaining: 1m 15s\n",
      "936:\tlearn: 0.5416142\ttotal: 18m 11s\tremaining: 1m 13s\n",
      "938:\tlearn: 0.5414805\ttotal: 18m 13s\tremaining: 1m 11s\n",
      "940:\tlearn: 0.5413771\ttotal: 18m 16s\tremaining: 1m 8s\n",
      "942:\tlearn: 0.5410263\ttotal: 18m 18s\tremaining: 1m 6s\n",
      "944:\tlearn: 0.5402751\ttotal: 18m 21s\tremaining: 1m 4s\n",
      "946:\tlearn: 0.5400949\ttotal: 18m 23s\tremaining: 1m 1s\n",
      "948:\tlearn: 0.5399881\ttotal: 18m 25s\tremaining: 59.4s\n",
      "950:\tlearn: 0.5398659\ttotal: 18m 28s\tremaining: 57.1s\n",
      "952:\tlearn: 0.5393564\ttotal: 18m 30s\tremaining: 54.8s\n",
      "954:\tlearn: 0.5392097\ttotal: 18m 32s\tremaining: 52.4s\n",
      "956:\tlearn: 0.5390232\ttotal: 18m 34s\tremaining: 50.1s\n",
      "958:\tlearn: 0.5388429\ttotal: 18m 36s\tremaining: 47.7s\n",
      "960:\tlearn: 0.5387161\ttotal: 18m 38s\tremaining: 45.4s\n",
      "962:\tlearn: 0.5383774\ttotal: 18m 40s\tremaining: 43s\n",
      "964:\tlearn: 0.5381982\ttotal: 18m 41s\tremaining: 40.7s\n",
      "966:\tlearn: 0.5380704\ttotal: 18m 43s\tremaining: 38.3s\n",
      "968:\tlearn: 0.5375644\ttotal: 18m 45s\tremaining: 36s\n",
      "970:\tlearn: 0.5374972\ttotal: 18m 47s\tremaining: 33.7s\n",
      "972:\tlearn: 0.5373560\ttotal: 18m 49s\tremaining: 31.3s\n",
      "974:\tlearn: 0.5372185\ttotal: 18m 51s\tremaining: 29s\n",
      "976:\tlearn: 0.5370775\ttotal: 18m 53s\tremaining: 26.7s\n",
      "978:\tlearn: 0.5369401\ttotal: 18m 55s\tremaining: 24.4s\n",
      "980:\tlearn: 0.5368153\ttotal: 18m 57s\tremaining: 22s\n",
      "982:\tlearn: 0.5366251\ttotal: 18m 59s\tremaining: 19.7s\n",
      "984:\tlearn: 0.5364325\ttotal: 19m 1s\tremaining: 17.4s\n",
      "986:\tlearn: 0.5362390\ttotal: 19m 3s\tremaining: 15.1s\n",
      "988:\tlearn: 0.5361147\ttotal: 19m 5s\tremaining: 12.7s\n",
      "990:\tlearn: 0.5356646\ttotal: 19m 8s\tremaining: 10.4s\n",
      "992:\tlearn: 0.5354235\ttotal: 19m 10s\tremaining: 8.11s\n",
      "994:\tlearn: 0.5353026\ttotal: 19m 13s\tremaining: 5.79s\n",
      "996:\tlearn: 0.5351889\ttotal: 19m 15s\tremaining: 3.48s\n",
      "998:\tlearn: 0.5350851\ttotal: 19m 17s\tremaining: 1.16s\n",
      "999:\tlearn: 0.5349823\ttotal: 19m 19s\tremaining: 0us\n"
     ]
    },
    {
     "data": {
      "text/plain": [
       "0.8897485493230174"
      ]
     },
     "execution_count": 11,
     "metadata": {},
     "output_type": "execute_result"
    }
   ],
   "source": [
    "catb_model = CatBoostClassifier().fit(X_train, y_train, verbose = 2)\n",
    "\n",
    "y_pred = catb_model.predict(X_test)\n",
    "acc_CB = accuracy_score(y_test, y_pred)\n",
    "acc_CB"
   ]
  },
  {
   "cell_type": "code",
   "execution_count": 36,
   "id": "aa673db9-b128-4148-8481-4b9e606496a0",
   "metadata": {
    "collapsed": true,
    "jupyter": {
     "outputs_hidden": true
    },
    "tags": []
   },
   "outputs": [
    {
     "ename": "NameError",
     "evalue": "name 'acc_CB' is not defined",
     "output_type": "error",
     "traceback": [
      "\u001b[1;31m---------------------------------------------------------------------------\u001b[0m",
      "\u001b[1;31mNameError\u001b[0m                                 Traceback (most recent call last)",
      "Input \u001b[1;32mIn [36]\u001b[0m, in \u001b[0;36m<cell line: 1>\u001b[1;34m()\u001b[0m\n\u001b[1;32m----> 1\u001b[0m joblib\u001b[38;5;241m.\u001b[39mdump(\u001b[43macc_CB\u001b[49m, \u001b[38;5;124m'\u001b[39m\u001b[38;5;124macc_CB.pkl\u001b[39m\u001b[38;5;124m'\u001b[39m)\n",
      "\u001b[1;31mNameError\u001b[0m: name 'acc_CB' is not defined"
     ]
    }
   ],
   "source": [
    "#joblib.dump(acc_CB, 'acc_CB.pkl')"
   ]
  },
  {
   "cell_type": "code",
   "execution_count": 12,
   "id": "8b7da784-c2c4-42e3-b138-4614117fa2f3",
   "metadata": {},
   "outputs": [
    {
     "name": "stdout",
     "output_type": "stream",
     "text": [
      "[[ 87   0   0   1   0   0   0   0   0   0   0   0  19   0   0   0   0]\n",
      " [  0  74   0   0   3   0   0   0   0   0   0   0   7   1   1   0   0]\n",
      " [  0   0  99   0   0   0   0   0   0   0   0   0   8   2   0   0   0]\n",
      " [  0   0   1 256   0   0   0   0   2   0   0   0  17   0   0   0   1]\n",
      " [  0   0   2   0 181   0   0   0   1   0   0   0  14   5   0   0   0]\n",
      " [  0   0   0   1   0  80   0   0   0   0   0   1  12   0   0   0   0]\n",
      " [  0   0   0   0   0   0  57   0   0   0   0   0  16   0   0   0   0]\n",
      " [  0   0   0   0   0   0   0  10   0   0   0   0   2   0   0   0   0]\n",
      " [  0   0   0   2   1   0   0   0 127   0   0   0   9   1   0   0   0]\n",
      " [  0   0   0   0   0   0   0   0   0  62   0   0  12   0   0   0   0]\n",
      " [  0   0   0   0   0   0   0   0   0   0 106   0  13   0   0   0   0]\n",
      " [  0   0   0   0   0   0   0   0   0   0   0 134  10   4   0   0   0]\n",
      " [  0   0   0   0   0   0   0   0   0   0   0   0 138   0   0   0   0]\n",
      " [  0   0   0   1   1   0   0   0   2   0   0   0   6 154   0   0   0]\n",
      " [  0   2   0   2   0   0   0   0   0   0   0   0   8   3 120   0   0]\n",
      " [  0   0   0   0   0   0   0   0   0   0   0   0   8   0   0  86   0]\n",
      " [  0   0   0   0   0   0   0   0   0   0   0   0  26   0   0   0  69]]\n",
      "              precision    recall  f1-score   support\n",
      "\n",
      "           0       1.00      0.81      0.90       107\n",
      "           1       0.97      0.86      0.91        86\n",
      "           2       0.97      0.91      0.94       109\n",
      "           3       0.97      0.92      0.95       277\n",
      "           4       0.97      0.89      0.93       203\n",
      "           5       1.00      0.85      0.92        94\n",
      "           6       1.00      0.78      0.88        73\n",
      "           7       1.00      0.83      0.91        12\n",
      "           8       0.96      0.91      0.93       140\n",
      "           9       1.00      0.84      0.91        74\n",
      "          10       1.00      0.89      0.94       119\n",
      "          11       0.99      0.91      0.95       148\n",
      "          12       0.42      1.00      0.60       138\n",
      "          13       0.91      0.94      0.92       164\n",
      "          14       0.99      0.89      0.94       135\n",
      "          15       1.00      0.91      0.96        94\n",
      "          16       0.99      0.73      0.84        95\n",
      "\n",
      "    accuracy                           0.89      2068\n",
      "   macro avg       0.95      0.87      0.90      2068\n",
      "weighted avg       0.94      0.89      0.90      2068\n",
      "\n"
     ]
    }
   ],
   "source": [
    "print(confusion_matrix(y_test, y_pred))\n",
    "print(classification_report(y_test, y_pred))"
   ]
  },
  {
   "cell_type": "markdown",
   "id": "3870d5e6",
   "metadata": {
    "tags": []
   },
   "source": [
    "## Conclusion"
   ]
  },
  {
   "cell_type": "markdown",
   "id": "bf35dc4b",
   "metadata": {},
   "source": [
    "I got the best accuracy of 0.976 for Navie Bayes."
   ]
  },
  {
   "cell_type": "markdown",
   "id": "ff5746a0-f54b-4e4f-b6b1-fbb6c10ce7c5",
   "metadata": {},
   "source": [
    "acc_NB = joblib.load(\"acc_NB.pkl\")\n",
    "acc_LR = joblib.load(\"acc_LR.pkl\")\n",
    "acc_SVM = joblib.load(\"acc_SVM.pkl\")\n",
    "acc_RF = joblib.load(\"acc_RF.pkl\")\n",
    "acc_XGB = joblib.load(\"acc_XGB.pkl\")\n",
    "acc_GBM = joblib.load(\"acc_GBM.pkl\")"
   ]
  },
  {
   "cell_type": "code",
   "execution_count": 56,
   "id": "ce538118-b3d0-4cd7-92e9-566de2e5fa01",
   "metadata": {},
   "outputs": [
    {
     "name": "stdout",
     "output_type": "stream",
     "text": [
      "     models       acc\n",
      "0        NB  0.976306\n",
      "1  Logistic  0.953578\n",
      "2       SVM  0.948743\n",
      "3  R_Forest  0.934720\n",
      "4       XGB  0.911509\n",
      "5       GBM  0.892166\n"
     ]
    }
   ],
   "source": [
    "vs = pd.DataFrame({'models':['NB', 'Logistic', 'SVM', 'R_Forest', 'XGB','GBM'], 'acc':[acc_NB, acc_LR, acc_SVM, acc_RF, acc_XGB, acc_GBM]})\n",
    "print(vs)"
   ]
  },
  {
   "cell_type": "code",
   "execution_count": 57,
   "id": "9c81c8e9-50c4-43fb-96bc-7c25b57b934d",
   "metadata": {},
   "outputs": [
    {
     "data": {
      "text/plain": [
       "<AxesSubplot:xlabel='models'>"
      ]
     },
     "execution_count": 57,
     "metadata": {},
     "output_type": "execute_result"
    },
    {
     "data": {
      "image/png": "[encoded data removed]",
      "text/plain": [
       "<Figure size 432x288 with 1 Axes>"
      ]
     },
     "metadata": {
      "needs_background": "light"
     },
     "output_type": "display_data"
    }
   ],
   "source": [
    "vs.plot.bar(x='models', y='acc', rot=0)"
   ]
  },
  {
   "cell_type": "code",
   "execution_count": 58,
   "id": "d8d7e554-7cea-4d67-9f2c-9ac4016211b4",
   "metadata": {},
   "outputs": [
    {
     "data": {
      "image/png": "[encoded data removed]",
      "text/plain": [
       "<Figure size 432x288 with 1 Axes>"
      ]
     },
     "metadata": {
      "needs_background": "light"
     },
     "output_type": "display_data"
    }
   ],
   "source": [
    "sns.barplot(x=\"models\", y=\"acc\", data=vs, color='r')\n",
    "plt.ylabel('Accuracy%')\n",
    "plt.title('Modellers Accuracy Rate');"
   ]
  }
 ],
 "metadata": {
  "kernelspec": {
   "display_name": "Python 3 (ipykernel)",
   "language": "python",
   "name": "python3"
  },
  "language_info": {
   "codemirror_mode": {
    "name": "ipython",
    "version": 3
   },
   "file_extension": ".py",
   "mimetype": "text/x-python",
   "name": "python",
   "nbconvert_exporter": "python",
   "pygments_lexer": "ipython3",
   "version": "3.10.4"
  }
 },
 "nbformat": 4,
 "nbformat_minor": 5
}
